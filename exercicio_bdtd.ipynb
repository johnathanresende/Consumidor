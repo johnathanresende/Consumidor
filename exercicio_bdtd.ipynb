{
 "cells": [
  {
   "cell_type": "markdown",
   "metadata": {},
   "source": [
    "# Exercício BDTD"
   ]
  },
  {
   "cell_type": "markdown",
   "metadata": {},
   "source": [
    "## Exercício:\n",
    "\n",
    "- Fazer uma pesquisa no site da BDTD sobre o tema “biblioteconomia”;\n",
    "- Baixar o resultado em CSV;\n",
    "- Fazer a carga dos dados em um dataframe do Pandas e analisar os seguintes pontos:\n",
    "- gráfico de distribuição de instituições X documentos publicados\n",
    "- gráfico de distribuição temporal de documentos X ano\n",
    "- gráfico de distribuição de formatos de documentos X números de documentos\n",
    "- uma tabela dos 20 orientadores “advisors” mais influentes"
   ]
  },
  {
   "cell_type": "markdown",
   "metadata": {},
   "source": [
    "## Carregamento dos dados"
   ]
  },
  {
   "cell_type": "code",
   "execution_count": 1,
   "metadata": {},
   "outputs": [],
   "source": [
    "# Importação convencional das bibliotecas\n",
    "\n",
    "import pandas as pd\n",
    "import numpy as np\n",
    "import re\n",
    "import matplotlib.pyplot as plt\n",
    "import seaborn as sns\n",
    "\n",
    "#permitir visualizar todas as colunas\n",
    "pd.options.display.max_columns = None\n",
    "\n",
    "#renderizar os gráficos diretamente no notebook\n",
    "#%matplotlib inline"
   ]
  },
  {
   "cell_type": "code",
   "execution_count": 2,
   "metadata": {},
   "outputs": [],
   "source": [
    "# Carregamento dos dados\n",
    "\n",
    "biblio = pd.read_csv('bibliobdtd.csv', sep=';')"
   ]
  },
  {
   "cell_type": "code",
   "execution_count": 3,
   "metadata": {},
   "outputs": [
    {
     "data": {
      "text/html": [
       "<div>\n",
       "<style scoped>\n",
       "    .dataframe tbody tr th:only-of-type {\n",
       "        vertical-align: middle;\n",
       "    }\n",
       "\n",
       "    .dataframe tbody tr th {\n",
       "        vertical-align: top;\n",
       "    }\n",
       "\n",
       "    .dataframe thead th {\n",
       "        text-align: right;\n",
       "    }\n",
       "</style>\n",
       "<table border=\"1\" class=\"dataframe\">\n",
       "  <thead>\n",
       "    <tr style=\"text-align: right;\">\n",
       "      <th></th>\n",
       "      <th>id</th>\n",
       "      <th>title</th>\n",
       "      <th>abstract_por</th>\n",
       "      <th>authors</th>\n",
       "      <th>contributors</th>\n",
       "      <th>subjectsCNPQ</th>\n",
       "      <th>subjectsPOR</th>\n",
       "      <th>institutions</th>\n",
       "      <th>departements</th>\n",
       "      <th>programs</th>\n",
       "      <th>types</th>\n",
       "      <th>accesslevel</th>\n",
       "      <th>publicationDates</th>\n",
       "      <th>urls</th>\n",
       "      <th>formats</th>\n",
       "      <th>languages</th>\n",
       "      <th>Unnamed: 16</th>\n",
       "    </tr>\n",
       "  </thead>\n",
       "  <tbody>\n",
       "    <tr>\n",
       "      <th>0</th>\n",
       "      <td>PUC_SP-1_646cc3010615e7f63d02ae06a49878ce</td>\n",
       "      <td>Epistemologia da Biblioteconomia</td>\n",
       "      <td>Em 1981 apontei num breve artigo que entitulei...</td>\n",
       "      <td>primary[Mostafa, Solange Puntel(http://buscate...</td>\n",
       "      <td>advisor[Cesar, Constanca Marcondes(NA)]</td>\n",
       "      <td>CNPQ::CIENCIAS HUMANAS::EDUCACAO::TOPICOS ESPE...</td>\n",
       "      <td>Epistemologia|Ciência da informação|Filosofia ...</td>\n",
       "      <td>PUC_SP</td>\n",
       "      <td>Educação</td>\n",
       "      <td>Programa de Estudos Pós-Graduados em Educação:...</td>\n",
       "      <td>doctoralThesis</td>\n",
       "      <td>openAccess</td>\n",
       "      <td>1985</td>\n",
       "      <td>https://tede2.pucsp.br/handle/handle/10705</td>\n",
       "      <td>doctoralThesis</td>\n",
       "      <td>por</td>\n",
       "      <td>NaN</td>\n",
       "    </tr>\n",
       "    <tr>\n",
       "      <th>1</th>\n",
       "      <td>UFMG_b863e34626b3175aee16422528984cd0</td>\n",
       "      <td>Biblioteconomia contemporânea: desafios e real...</td>\n",
       "      <td>Esta pesquisa foi realizada com o objetivo de ...</td>\n",
       "      <td>primary[Emanuelle Georgia Amaral Ferreira(NA)]</td>\n",
       "      <td>advisor[Carlos Alberto Avila Araujo(NA)]|refer...</td>\n",
       "      <td>NaN</td>\n",
       "      <td>Nova Biblioteconomia|Biblioteca|Biblioteconomi...</td>\n",
       "      <td>UFMG</td>\n",
       "      <td>NaN</td>\n",
       "      <td>NaN</td>\n",
       "      <td>masterThesis</td>\n",
       "      <td>openAccess</td>\n",
       "      <td>2016</td>\n",
       "      <td>http://hdl.handle.net/1843/BUOS-AV2HH8</td>\n",
       "      <td>masterThesis</td>\n",
       "      <td>por</td>\n",
       "      <td>NaN</td>\n",
       "    </tr>\n",
       "    <tr>\n",
       "      <th>2</th>\n",
       "      <td>UFSC_cca4e2ff56abbbe594044faf2aee572a</td>\n",
       "      <td>O gênero na Biblioteconomia : percepção de bib...</td>\n",
       "      <td>Esta tese teve como objetivo investigar o gêne...</td>\n",
       "      <td>primary[Sousa, Beatriz Alves de(NA)]</td>\n",
       "      <td>advisor[Pedro, Joana Maria(NA)]|coadvisor[Cunh...</td>\n",
       "      <td>NaN</td>\n",
       "      <td>NaN</td>\n",
       "      <td>UFSC</td>\n",
       "      <td>NaN</td>\n",
       "      <td>NaN</td>\n",
       "      <td>doctoralThesis</td>\n",
       "      <td>openAccess</td>\n",
       "      <td>2014</td>\n",
       "      <td>https://repositorio.ufsc.br/xmlui/handle/12345...</td>\n",
       "      <td>doctoralThesis</td>\n",
       "      <td>por</td>\n",
       "      <td>NaN</td>\n",
       "    </tr>\n",
       "    <tr>\n",
       "      <th>3</th>\n",
       "      <td>UNB_f1d4b45d940b27b572fb71c88e4ca2b8</td>\n",
       "      <td>Problemática da realização de pesquisa pelos p...</td>\n",
       "      <td>Pesquisa exploratória dos elementos individuai...</td>\n",
       "      <td>primary[Barretto, Clara Maria Weber(NA)]</td>\n",
       "      <td>advisor[Figueiredo, Nice Menezes de(NA)]</td>\n",
       "      <td>NaN</td>\n",
       "      <td>NaN</td>\n",
       "      <td>UNB</td>\n",
       "      <td>NaN</td>\n",
       "      <td>NaN</td>\n",
       "      <td>masterThesis</td>\n",
       "      <td>openAccess</td>\n",
       "      <td>1981</td>\n",
       "      <td>http://repositorio.unb.br/handle/10482/35267</td>\n",
       "      <td>masterThesis</td>\n",
       "      <td>por</td>\n",
       "      <td>NaN</td>\n",
       "    </tr>\n",
       "    <tr>\n",
       "      <th>4</th>\n",
       "      <td>UFC-7_ff534a7cfa8d99e4d16b8f5c13e5ec0f</td>\n",
       "      <td>Diagnóstico da acessibilidade informacional na...</td>\n",
       "      <td>The hugh advance in science and technology, th...</td>\n",
       "      <td>primary[Fernandes, Joana D'Arc Páscoa Bezerra(...</td>\n",
       "      <td>advisor[Souza, Osvaldo de(NA)]</td>\n",
       "      <td>NaN</td>\n",
       "      <td>Biblioteconomia brasileira|Acessibilidade info...</td>\n",
       "      <td>UFC</td>\n",
       "      <td>NaN</td>\n",
       "      <td>NaN</td>\n",
       "      <td>masterThesis</td>\n",
       "      <td>openAccess</td>\n",
       "      <td>2018</td>\n",
       "      <td>http://www.repositorio.ufc.br/handle/riufc/33425</td>\n",
       "      <td>masterThesis</td>\n",
       "      <td>por</td>\n",
       "      <td>NaN</td>\n",
       "    </tr>\n",
       "  </tbody>\n",
       "</table>\n",
       "</div>"
      ],
      "text/plain": [
       "                                          id  \\\n",
       "0  PUC_SP-1_646cc3010615e7f63d02ae06a49878ce   \n",
       "1      UFMG_b863e34626b3175aee16422528984cd0   \n",
       "2      UFSC_cca4e2ff56abbbe594044faf2aee572a   \n",
       "3       UNB_f1d4b45d940b27b572fb71c88e4ca2b8   \n",
       "4     UFC-7_ff534a7cfa8d99e4d16b8f5c13e5ec0f   \n",
       "\n",
       "                                               title  \\\n",
       "0                   Epistemologia da Biblioteconomia   \n",
       "1  Biblioteconomia contemporânea: desafios e real...   \n",
       "2  O gênero na Biblioteconomia : percepção de bib...   \n",
       "3  Problemática da realização de pesquisa pelos p...   \n",
       "4  Diagnóstico da acessibilidade informacional na...   \n",
       "\n",
       "                                        abstract_por  \\\n",
       "0  Em 1981 apontei num breve artigo que entitulei...   \n",
       "1  Esta pesquisa foi realizada com o objetivo de ...   \n",
       "2  Esta tese teve como objetivo investigar o gêne...   \n",
       "3  Pesquisa exploratória dos elementos individuai...   \n",
       "4  The hugh advance in science and technology, th...   \n",
       "\n",
       "                                             authors  \\\n",
       "0  primary[Mostafa, Solange Puntel(http://buscate...   \n",
       "1     primary[Emanuelle Georgia Amaral Ferreira(NA)]   \n",
       "2               primary[Sousa, Beatriz Alves de(NA)]   \n",
       "3           primary[Barretto, Clara Maria Weber(NA)]   \n",
       "4  primary[Fernandes, Joana D'Arc Páscoa Bezerra(...   \n",
       "\n",
       "                                        contributors  \\\n",
       "0            advisor[Cesar, Constanca Marcondes(NA)]   \n",
       "1  advisor[Carlos Alberto Avila Araujo(NA)]|refer...   \n",
       "2  advisor[Pedro, Joana Maria(NA)]|coadvisor[Cunh...   \n",
       "3           advisor[Figueiredo, Nice Menezes de(NA)]   \n",
       "4                     advisor[Souza, Osvaldo de(NA)]   \n",
       "\n",
       "                                        subjectsCNPQ  \\\n",
       "0  CNPQ::CIENCIAS HUMANAS::EDUCACAO::TOPICOS ESPE...   \n",
       "1                                                NaN   \n",
       "2                                                NaN   \n",
       "3                                                NaN   \n",
       "4                                                NaN   \n",
       "\n",
       "                                         subjectsPOR institutions  \\\n",
       "0  Epistemologia|Ciência da informação|Filosofia ...       PUC_SP   \n",
       "1  Nova Biblioteconomia|Biblioteca|Biblioteconomi...         UFMG   \n",
       "2                                                NaN         UFSC   \n",
       "3                                                NaN          UNB   \n",
       "4  Biblioteconomia brasileira|Acessibilidade info...          UFC   \n",
       "\n",
       "  departements                                           programs  \\\n",
       "0     Educação  Programa de Estudos Pós-Graduados em Educação:...   \n",
       "1          NaN                                                NaN   \n",
       "2          NaN                                                NaN   \n",
       "3          NaN                                                NaN   \n",
       "4          NaN                                                NaN   \n",
       "\n",
       "            types accesslevel  publicationDates  \\\n",
       "0  doctoralThesis  openAccess              1985   \n",
       "1    masterThesis  openAccess              2016   \n",
       "2  doctoralThesis  openAccess              2014   \n",
       "3    masterThesis  openAccess              1981   \n",
       "4    masterThesis  openAccess              2018   \n",
       "\n",
       "                                                urls         formats  \\\n",
       "0         https://tede2.pucsp.br/handle/handle/10705  doctoralThesis   \n",
       "1             http://hdl.handle.net/1843/BUOS-AV2HH8    masterThesis   \n",
       "2  https://repositorio.ufsc.br/xmlui/handle/12345...  doctoralThesis   \n",
       "3       http://repositorio.unb.br/handle/10482/35267    masterThesis   \n",
       "4   http://www.repositorio.ufc.br/handle/riufc/33425    masterThesis   \n",
       "\n",
       "  languages  Unnamed: 16  \n",
       "0       por          NaN  \n",
       "1       por          NaN  \n",
       "2       por          NaN  \n",
       "3       por          NaN  \n",
       "4       por          NaN  "
      ]
     },
     "execution_count": 3,
     "metadata": {},
     "output_type": "execute_result"
    }
   ],
   "source": [
    "# Mostrar as 5 primeiras linhas\n",
    "\n",
    "biblio.head()"
   ]
  },
  {
   "cell_type": "markdown",
   "metadata": {},
   "source": [
    "## Dicionário dos Dados\n",
    "\n",
    "- <b>id</b>  = id do documento no site.\n",
    "- <b>title</b> = Título do artigo\n",
    "- <b>abstract_por</b> = Resumo do Artigo\n",
    "- <b>authors</b> = Autores.\n",
    "- <b>contributors</b> = Contribuidores.\n",
    "- <b>subjectsCNPQ</b> = Assuntos (na CNPQ?)\n",
    "- <b>subjectsPOR</b> = Assuntos.\n",
    "- <b>institutions</b> = Universidade na qual o documento foi produzido.\n",
    "- <b>departements</b> = Departamento ao qual a tese/dissertação está vinculado.\n",
    "- <b>programs</b> = Programa ao qual a tese/dissertação está vinculado.\n",
    "- <b>types</b> = Tipo do documento (se é tese/dissertação de mestrado, doutorado etc.)\n",
    "- <b>accesslevel</b> = Tipo de acesso do documento (se é aberto ou tem restrições)\n",
    "- <b>publicationDates</b> = Data de Publicação (ano).\n",
    "- <b>urls</b> = Endereço web do documento. \n",
    "- <b>formats</b> = Estilo do documento (se é tese/dissertação de mestrado, doutorado etc.)\n",
    "- <b>languages</b> = Idiomas usados na tese/dissertação.\n",
    "- <b>Unnamed: 16</b> = Coluna erro, pois não tem nenhum valor."
   ]
  },
  {
   "cell_type": "markdown",
   "metadata": {},
   "source": [
    "## Limpeza dos Dados"
   ]
  },
  {
   "cell_type": "code",
   "execution_count": 4,
   "metadata": {},
   "outputs": [
    {
     "data": {
      "text/plain": [
       "id                     0\n",
       "title                  0\n",
       "abstract_por          97\n",
       "authors                0\n",
       "contributors          23\n",
       "subjectsCNPQ         862\n",
       "subjectsPOR          203\n",
       "institutions           0\n",
       "departements         904\n",
       "programs             828\n",
       "types                  0\n",
       "accesslevel            0\n",
       "publicationDates       0\n",
       "urls                   0\n",
       "formats                0\n",
       "languages              7\n",
       "Unnamed: 16         1000\n",
       "dtype: int64"
      ]
     },
     "execution_count": 4,
     "metadata": {},
     "output_type": "execute_result"
    }
   ],
   "source": [
    "# Conferir a quantidade de céluas vazias\n",
    "\n",
    "biblio.isnull().sum()"
   ]
  },
  {
   "cell_type": "code",
   "execution_count": 5,
   "metadata": {},
   "outputs": [
    {
     "name": "stdout",
     "output_type": "stream",
     "text": [
      "A Base de dados contém 23.08 % de valores faltantes.\n"
     ]
    }
   ],
   "source": [
    "# Calcula o total de células no DataFrame\n",
    "totalCelulas = np.product(biblio.shape)\n",
    "\n",
    "# Conta o número de valores faltantes por coluna\n",
    "faltanteCount = biblio.isnull().sum()\n",
    "\n",
    "# Calcula o número total de valores faltantes\n",
    "totalFaltante = faltanteCount.sum()\n",
    "\n",
    "# Calcula a porcentagem de valores faltantes\n",
    "print(\"A Base de dados contém\", round(((totalFaltante/totalCelulas) * 100), 2), \"%\", \"de valores faltantes.\")"
   ]
  },
  {
   "cell_type": "code",
   "execution_count": 6,
   "metadata": {},
   "outputs": [
    {
     "name": "stdout",
     "output_type": "stream",
     "text": [
      "<class 'pandas.core.frame.DataFrame'>\n",
      "RangeIndex: 1000 entries, 0 to 999\n",
      "Data columns (total 17 columns):\n",
      " #   Column            Non-Null Count  Dtype  \n",
      "---  ------            --------------  -----  \n",
      " 0   id                1000 non-null   object \n",
      " 1   title             1000 non-null   object \n",
      " 2   abstract_por      903 non-null    object \n",
      " 3   authors           1000 non-null   object \n",
      " 4   contributors      977 non-null    object \n",
      " 5   subjectsCNPQ      138 non-null    object \n",
      " 6   subjectsPOR       797 non-null    object \n",
      " 7   institutions      1000 non-null   object \n",
      " 8   departements      96 non-null     object \n",
      " 9   programs          172 non-null    object \n",
      " 10  types             1000 non-null   object \n",
      " 11  accesslevel       1000 non-null   object \n",
      " 12  publicationDates  1000 non-null   int64  \n",
      " 13  urls              1000 non-null   object \n",
      " 14  formats           1000 non-null   object \n",
      " 15  languages         993 non-null    object \n",
      " 16  Unnamed: 16       0 non-null      float64\n",
      "dtypes: float64(1), int64(1), object(15)\n",
      "memory usage: 132.9+ KB\n"
     ]
    }
   ],
   "source": [
    "# Visualizar os tipos dos dados\n",
    "biblio.info()"
   ]
  },
  {
   "cell_type": "code",
   "execution_count": 7,
   "metadata": {},
   "outputs": [],
   "source": [
    "# Eliminar colunas desnecessárias para o presente exerício\n",
    "biblio.drop(['Unnamed: 16', 'languages', 'urls', 'accesslevel', 'programs',\n",
    "            'departements', 'subjectsPOR', 'subjectsCNPQ', 'abstract_por', 'id', 'types', 'title'], axis = 1, inplace = True)"
   ]
  },
  {
   "cell_type": "code",
   "execution_count": 8,
   "metadata": {},
   "outputs": [],
   "source": [
    "# Renomear colunas\n",
    "biblio.columns = ['Autores', 'Orientadores', 'Instituições', 'DataPublicação', 'Formato']"
   ]
  },
  {
   "cell_type": "code",
   "execution_count": 9,
   "metadata": {},
   "outputs": [
    {
     "data": {
      "text/html": [
       "<div>\n",
       "<style scoped>\n",
       "    .dataframe tbody tr th:only-of-type {\n",
       "        vertical-align: middle;\n",
       "    }\n",
       "\n",
       "    .dataframe tbody tr th {\n",
       "        vertical-align: top;\n",
       "    }\n",
       "\n",
       "    .dataframe thead th {\n",
       "        text-align: right;\n",
       "    }\n",
       "</style>\n",
       "<table border=\"1\" class=\"dataframe\">\n",
       "  <thead>\n",
       "    <tr style=\"text-align: right;\">\n",
       "      <th></th>\n",
       "      <th>Autores</th>\n",
       "      <th>Orientadores</th>\n",
       "      <th>Instituições</th>\n",
       "      <th>DataPublicação</th>\n",
       "      <th>Formato</th>\n",
       "    </tr>\n",
       "  </thead>\n",
       "  <tbody>\n",
       "    <tr>\n",
       "      <th>0</th>\n",
       "      <td>primary[Mostafa, Solange Puntel(http://buscate...</td>\n",
       "      <td>advisor[Cesar, Constanca Marcondes(NA)]</td>\n",
       "      <td>PUC_SP</td>\n",
       "      <td>1985</td>\n",
       "      <td>doctoralThesis</td>\n",
       "    </tr>\n",
       "    <tr>\n",
       "      <th>1</th>\n",
       "      <td>primary[Emanuelle Georgia Amaral Ferreira(NA)]</td>\n",
       "      <td>advisor[Carlos Alberto Avila Araujo(NA)]|refer...</td>\n",
       "      <td>UFMG</td>\n",
       "      <td>2016</td>\n",
       "      <td>masterThesis</td>\n",
       "    </tr>\n",
       "    <tr>\n",
       "      <th>2</th>\n",
       "      <td>primary[Sousa, Beatriz Alves de(NA)]</td>\n",
       "      <td>advisor[Pedro, Joana Maria(NA)]|coadvisor[Cunh...</td>\n",
       "      <td>UFSC</td>\n",
       "      <td>2014</td>\n",
       "      <td>doctoralThesis</td>\n",
       "    </tr>\n",
       "    <tr>\n",
       "      <th>3</th>\n",
       "      <td>primary[Barretto, Clara Maria Weber(NA)]</td>\n",
       "      <td>advisor[Figueiredo, Nice Menezes de(NA)]</td>\n",
       "      <td>UNB</td>\n",
       "      <td>1981</td>\n",
       "      <td>masterThesis</td>\n",
       "    </tr>\n",
       "    <tr>\n",
       "      <th>4</th>\n",
       "      <td>primary[Fernandes, Joana D'Arc Páscoa Bezerra(...</td>\n",
       "      <td>advisor[Souza, Osvaldo de(NA)]</td>\n",
       "      <td>UFC</td>\n",
       "      <td>2018</td>\n",
       "      <td>masterThesis</td>\n",
       "    </tr>\n",
       "  </tbody>\n",
       "</table>\n",
       "</div>"
      ],
      "text/plain": [
       "                                             Autores  \\\n",
       "0  primary[Mostafa, Solange Puntel(http://buscate...   \n",
       "1     primary[Emanuelle Georgia Amaral Ferreira(NA)]   \n",
       "2               primary[Sousa, Beatriz Alves de(NA)]   \n",
       "3           primary[Barretto, Clara Maria Weber(NA)]   \n",
       "4  primary[Fernandes, Joana D'Arc Páscoa Bezerra(...   \n",
       "\n",
       "                                        Orientadores Instituições  \\\n",
       "0            advisor[Cesar, Constanca Marcondes(NA)]       PUC_SP   \n",
       "1  advisor[Carlos Alberto Avila Araujo(NA)]|refer...         UFMG   \n",
       "2  advisor[Pedro, Joana Maria(NA)]|coadvisor[Cunh...         UFSC   \n",
       "3           advisor[Figueiredo, Nice Menezes de(NA)]          UNB   \n",
       "4                     advisor[Souza, Osvaldo de(NA)]          UFC   \n",
       "\n",
       "   DataPublicação         Formato  \n",
       "0            1985  doctoralThesis  \n",
       "1            2016    masterThesis  \n",
       "2            2014  doctoralThesis  \n",
       "3            1981    masterThesis  \n",
       "4            2018    masterThesis  "
      ]
     },
     "execution_count": 9,
     "metadata": {},
     "output_type": "execute_result"
    }
   ],
   "source": [
    "# Ver como ficou com as colunas renomeadas\n",
    "biblio.head()"
   ]
  },
  {
   "cell_type": "markdown",
   "metadata": {},
   "source": [
    "### Removendo o que há antes e depois do nome do autor e do orientador\n",
    "\n",
    "Os dados são precedidos ou por 'primary' ou por 'advisor'. São também sucedidos por '(NA)'. São informações que estão ali, provavelmente, por erro."
   ]
  },
  {
   "cell_type": "code",
   "execution_count": 10,
   "metadata": {},
   "outputs": [],
   "source": [
    "# Tirar a palavra \"primary\" na coluna Autores\n",
    "biblio['Autores'] = biblio['Autores'].str.replace('primary\\[','')"
   ]
  },
  {
   "cell_type": "code",
   "execution_count": 11,
   "metadata": {},
   "outputs": [],
   "source": [
    "# Tirar tudo que vem depois de 'NA' na coluna Autores, com uma função lambda\n",
    "biblio['Autores'] = biblio['Autores'].apply(lambda x: x.split('(NA)')[0])"
   ]
  },
  {
   "cell_type": "code",
   "execution_count": 12,
   "metadata": {},
   "outputs": [],
   "source": [
    "#Apagar o colchete restante\n",
    "biblio['Autores'] = biblio['Autores'].str.replace('\\[','')"
   ]
  },
  {
   "cell_type": "code",
   "execution_count": 13,
   "metadata": {},
   "outputs": [
    {
     "data": {
      "text/html": [
       "<div>\n",
       "<style scoped>\n",
       "    .dataframe tbody tr th:only-of-type {\n",
       "        vertical-align: middle;\n",
       "    }\n",
       "\n",
       "    .dataframe tbody tr th {\n",
       "        vertical-align: top;\n",
       "    }\n",
       "\n",
       "    .dataframe thead th {\n",
       "        text-align: right;\n",
       "    }\n",
       "</style>\n",
       "<table border=\"1\" class=\"dataframe\">\n",
       "  <thead>\n",
       "    <tr style=\"text-align: right;\">\n",
       "      <th></th>\n",
       "      <th>Autores</th>\n",
       "      <th>Orientadores</th>\n",
       "      <th>Instituições</th>\n",
       "      <th>DataPublicação</th>\n",
       "      <th>Formato</th>\n",
       "    </tr>\n",
       "  </thead>\n",
       "  <tbody>\n",
       "    <tr>\n",
       "      <th>0</th>\n",
       "      <td>Mostafa, Solange Puntel(http://buscatextual.cn...</td>\n",
       "      <td>advisor[Cesar, Constanca Marcondes(NA)]</td>\n",
       "      <td>PUC_SP</td>\n",
       "      <td>1985</td>\n",
       "      <td>doctoralThesis</td>\n",
       "    </tr>\n",
       "    <tr>\n",
       "      <th>1</th>\n",
       "      <td>Emanuelle Georgia Amaral Ferreira</td>\n",
       "      <td>advisor[Carlos Alberto Avila Araujo(NA)]|refer...</td>\n",
       "      <td>UFMG</td>\n",
       "      <td>2016</td>\n",
       "      <td>masterThesis</td>\n",
       "    </tr>\n",
       "    <tr>\n",
       "      <th>2</th>\n",
       "      <td>Sousa, Beatriz Alves de</td>\n",
       "      <td>advisor[Pedro, Joana Maria(NA)]|coadvisor[Cunh...</td>\n",
       "      <td>UFSC</td>\n",
       "      <td>2014</td>\n",
       "      <td>doctoralThesis</td>\n",
       "    </tr>\n",
       "    <tr>\n",
       "      <th>3</th>\n",
       "      <td>Barretto, Clara Maria Weber</td>\n",
       "      <td>advisor[Figueiredo, Nice Menezes de(NA)]</td>\n",
       "      <td>UNB</td>\n",
       "      <td>1981</td>\n",
       "      <td>masterThesis</td>\n",
       "    </tr>\n",
       "    <tr>\n",
       "      <th>4</th>\n",
       "      <td>Fernandes, Joana D'Arc Páscoa Bezerra</td>\n",
       "      <td>advisor[Souza, Osvaldo de(NA)]</td>\n",
       "      <td>UFC</td>\n",
       "      <td>2018</td>\n",
       "      <td>masterThesis</td>\n",
       "    </tr>\n",
       "  </tbody>\n",
       "</table>\n",
       "</div>"
      ],
      "text/plain": [
       "                                             Autores  \\\n",
       "0  Mostafa, Solange Puntel(http://buscatextual.cn...   \n",
       "1                  Emanuelle Georgia Amaral Ferreira   \n",
       "2                            Sousa, Beatriz Alves de   \n",
       "3                        Barretto, Clara Maria Weber   \n",
       "4              Fernandes, Joana D'Arc Páscoa Bezerra   \n",
       "\n",
       "                                        Orientadores Instituições  \\\n",
       "0            advisor[Cesar, Constanca Marcondes(NA)]       PUC_SP   \n",
       "1  advisor[Carlos Alberto Avila Araujo(NA)]|refer...         UFMG   \n",
       "2  advisor[Pedro, Joana Maria(NA)]|coadvisor[Cunh...         UFSC   \n",
       "3           advisor[Figueiredo, Nice Menezes de(NA)]          UNB   \n",
       "4                     advisor[Souza, Osvaldo de(NA)]          UFC   \n",
       "\n",
       "   DataPublicação         Formato  \n",
       "0            1985  doctoralThesis  \n",
       "1            2016    masterThesis  \n",
       "2            2014  doctoralThesis  \n",
       "3            1981    masterThesis  \n",
       "4            2018    masterThesis  "
      ]
     },
     "execution_count": 13,
     "metadata": {},
     "output_type": "execute_result"
    }
   ],
   "source": [
    "biblio.head()"
   ]
  },
  {
   "cell_type": "code",
   "execution_count": 14,
   "metadata": {},
   "outputs": [],
   "source": [
    "# Retirar link de sites, se houve\n",
    "biblio['Autores'] = biblio['Autores'].apply(lambda x: x.split('(http')[0])"
   ]
  },
  {
   "cell_type": "code",
   "execution_count": 15,
   "metadata": {},
   "outputs": [
    {
     "data": {
      "text/html": [
       "<div>\n",
       "<style scoped>\n",
       "    .dataframe tbody tr th:only-of-type {\n",
       "        vertical-align: middle;\n",
       "    }\n",
       "\n",
       "    .dataframe tbody tr th {\n",
       "        vertical-align: top;\n",
       "    }\n",
       "\n",
       "    .dataframe thead th {\n",
       "        text-align: right;\n",
       "    }\n",
       "</style>\n",
       "<table border=\"1\" class=\"dataframe\">\n",
       "  <thead>\n",
       "    <tr style=\"text-align: right;\">\n",
       "      <th></th>\n",
       "      <th>Autores</th>\n",
       "      <th>Orientadores</th>\n",
       "      <th>Instituições</th>\n",
       "      <th>DataPublicação</th>\n",
       "      <th>Formato</th>\n",
       "    </tr>\n",
       "  </thead>\n",
       "  <tbody>\n",
       "    <tr>\n",
       "      <th>0</th>\n",
       "      <td>Mostafa, Solange Puntel</td>\n",
       "      <td>advisor[Cesar, Constanca Marcondes(NA)]</td>\n",
       "      <td>PUC_SP</td>\n",
       "      <td>1985</td>\n",
       "      <td>doctoralThesis</td>\n",
       "    </tr>\n",
       "    <tr>\n",
       "      <th>1</th>\n",
       "      <td>Emanuelle Georgia Amaral Ferreira</td>\n",
       "      <td>advisor[Carlos Alberto Avila Araujo(NA)]|refer...</td>\n",
       "      <td>UFMG</td>\n",
       "      <td>2016</td>\n",
       "      <td>masterThesis</td>\n",
       "    </tr>\n",
       "    <tr>\n",
       "      <th>2</th>\n",
       "      <td>Sousa, Beatriz Alves de</td>\n",
       "      <td>advisor[Pedro, Joana Maria(NA)]|coadvisor[Cunh...</td>\n",
       "      <td>UFSC</td>\n",
       "      <td>2014</td>\n",
       "      <td>doctoralThesis</td>\n",
       "    </tr>\n",
       "    <tr>\n",
       "      <th>3</th>\n",
       "      <td>Barretto, Clara Maria Weber</td>\n",
       "      <td>advisor[Figueiredo, Nice Menezes de(NA)]</td>\n",
       "      <td>UNB</td>\n",
       "      <td>1981</td>\n",
       "      <td>masterThesis</td>\n",
       "    </tr>\n",
       "    <tr>\n",
       "      <th>4</th>\n",
       "      <td>Fernandes, Joana D'Arc Páscoa Bezerra</td>\n",
       "      <td>advisor[Souza, Osvaldo de(NA)]</td>\n",
       "      <td>UFC</td>\n",
       "      <td>2018</td>\n",
       "      <td>masterThesis</td>\n",
       "    </tr>\n",
       "  </tbody>\n",
       "</table>\n",
       "</div>"
      ],
      "text/plain": [
       "                                 Autores  \\\n",
       "0                Mostafa, Solange Puntel   \n",
       "1      Emanuelle Georgia Amaral Ferreira   \n",
       "2                Sousa, Beatriz Alves de   \n",
       "3            Barretto, Clara Maria Weber   \n",
       "4  Fernandes, Joana D'Arc Páscoa Bezerra   \n",
       "\n",
       "                                        Orientadores Instituições  \\\n",
       "0            advisor[Cesar, Constanca Marcondes(NA)]       PUC_SP   \n",
       "1  advisor[Carlos Alberto Avila Araujo(NA)]|refer...         UFMG   \n",
       "2  advisor[Pedro, Joana Maria(NA)]|coadvisor[Cunh...         UFSC   \n",
       "3           advisor[Figueiredo, Nice Menezes de(NA)]          UNB   \n",
       "4                     advisor[Souza, Osvaldo de(NA)]          UFC   \n",
       "\n",
       "   DataPublicação         Formato  \n",
       "0            1985  doctoralThesis  \n",
       "1            2016    masterThesis  \n",
       "2            2014  doctoralThesis  \n",
       "3            1981    masterThesis  \n",
       "4            2018    masterThesis  "
      ]
     },
     "execution_count": 15,
     "metadata": {},
     "output_type": "execute_result"
    }
   ],
   "source": [
    "#Resultado da coluna Autores\n",
    "biblio.head()"
   ]
  },
  {
   "cell_type": "code",
   "execution_count": 16,
   "metadata": {},
   "outputs": [],
   "source": [
    "#tirar a palavra \"advisor\" na coluna Orientadores\n",
    "biblio['Orientadores'] = biblio['Orientadores'].str.replace('advisor\\[','')"
   ]
  },
  {
   "cell_type": "code",
   "execution_count": 17,
   "metadata": {},
   "outputs": [],
   "source": [
    "# tirar o colchete restante\n",
    "biblio['Orientadores'] = biblio['Orientadores'].str.replace('\\[','')"
   ]
  },
  {
   "cell_type": "code",
   "execution_count": 18,
   "metadata": {},
   "outputs": [],
   "source": [
    "#Tirar o que vem depois de '(NA)' com o método partition\n",
    "biblio['Orientadores'] = biblio['Orientadores'].str.partition('(NA)')"
   ]
  },
  {
   "cell_type": "code",
   "execution_count": 19,
   "metadata": {},
   "outputs": [
    {
     "data": {
      "text/html": [
       "<div>\n",
       "<style scoped>\n",
       "    .dataframe tbody tr th:only-of-type {\n",
       "        vertical-align: middle;\n",
       "    }\n",
       "\n",
       "    .dataframe tbody tr th {\n",
       "        vertical-align: top;\n",
       "    }\n",
       "\n",
       "    .dataframe thead th {\n",
       "        text-align: right;\n",
       "    }\n",
       "</style>\n",
       "<table border=\"1\" class=\"dataframe\">\n",
       "  <thead>\n",
       "    <tr style=\"text-align: right;\">\n",
       "      <th></th>\n",
       "      <th>Autores</th>\n",
       "      <th>Orientadores</th>\n",
       "      <th>Instituições</th>\n",
       "      <th>DataPublicação</th>\n",
       "      <th>Formato</th>\n",
       "    </tr>\n",
       "  </thead>\n",
       "  <tbody>\n",
       "    <tr>\n",
       "      <th>0</th>\n",
       "      <td>Mostafa, Solange Puntel</td>\n",
       "      <td>Cesar, Constanca Marcondes</td>\n",
       "      <td>PUC_SP</td>\n",
       "      <td>1985</td>\n",
       "      <td>doctoralThesis</td>\n",
       "    </tr>\n",
       "    <tr>\n",
       "      <th>1</th>\n",
       "      <td>Emanuelle Georgia Amaral Ferreira</td>\n",
       "      <td>Carlos Alberto Avila Araujo</td>\n",
       "      <td>UFMG</td>\n",
       "      <td>2016</td>\n",
       "      <td>masterThesis</td>\n",
       "    </tr>\n",
       "    <tr>\n",
       "      <th>2</th>\n",
       "      <td>Sousa, Beatriz Alves de</td>\n",
       "      <td>Pedro, Joana Maria</td>\n",
       "      <td>UFSC</td>\n",
       "      <td>2014</td>\n",
       "      <td>doctoralThesis</td>\n",
       "    </tr>\n",
       "    <tr>\n",
       "      <th>3</th>\n",
       "      <td>Barretto, Clara Maria Weber</td>\n",
       "      <td>Figueiredo, Nice Menezes de</td>\n",
       "      <td>UNB</td>\n",
       "      <td>1981</td>\n",
       "      <td>masterThesis</td>\n",
       "    </tr>\n",
       "    <tr>\n",
       "      <th>4</th>\n",
       "      <td>Fernandes, Joana D'Arc Páscoa Bezerra</td>\n",
       "      <td>Souza, Osvaldo de</td>\n",
       "      <td>UFC</td>\n",
       "      <td>2018</td>\n",
       "      <td>masterThesis</td>\n",
       "    </tr>\n",
       "  </tbody>\n",
       "</table>\n",
       "</div>"
      ],
      "text/plain": [
       "                                 Autores                 Orientadores  \\\n",
       "0                Mostafa, Solange Puntel   Cesar, Constanca Marcondes   \n",
       "1      Emanuelle Georgia Amaral Ferreira  Carlos Alberto Avila Araujo   \n",
       "2                Sousa, Beatriz Alves de           Pedro, Joana Maria   \n",
       "3            Barretto, Clara Maria Weber  Figueiredo, Nice Menezes de   \n",
       "4  Fernandes, Joana D'Arc Páscoa Bezerra            Souza, Osvaldo de   \n",
       "\n",
       "  Instituições  DataPublicação         Formato  \n",
       "0       PUC_SP            1985  doctoralThesis  \n",
       "1         UFMG            2016    masterThesis  \n",
       "2         UFSC            2014  doctoralThesis  \n",
       "3          UNB            1981    masterThesis  \n",
       "4          UFC            2018    masterThesis  "
      ]
     },
     "execution_count": 19,
     "metadata": {},
     "output_type": "execute_result"
    }
   ],
   "source": [
    "#Ver o resultado\n",
    "biblio.head()"
   ]
  },
  {
   "cell_type": "markdown",
   "metadata": {},
   "source": [
    "### Inverter a posição do nome e sobrenome"
   ]
  },
  {
   "cell_type": "code",
   "execution_count": 20,
   "metadata": {},
   "outputs": [],
   "source": [
    "#Reverter nome e sobrenome da coluna Autores\n",
    "biblio['Autores'] = biblio['Autores'].str.split(', ').str[::-1].str.join(' ')"
   ]
  },
  {
   "cell_type": "code",
   "execution_count": 21,
   "metadata": {},
   "outputs": [],
   "source": [
    "#Reverter nome e sobrenome da coluna Orientadores\n",
    "\n",
    "biblio['Orientadores'] = biblio['Orientadores'].str.split(', ').str[::-1].str.join(' ')"
   ]
  },
  {
   "cell_type": "code",
   "execution_count": 22,
   "metadata": {},
   "outputs": [],
   "source": [
    "biblio['Formato'] = biblio['Formato'].str.replace('doctoralThesis','Tese de Doutorado')"
   ]
  },
  {
   "cell_type": "code",
   "execution_count": 23,
   "metadata": {},
   "outputs": [],
   "source": [
    "biblio['Formato'] = biblio['Formato'].str.replace('masterThesis','Tese de Mestrado')"
   ]
  },
  {
   "cell_type": "code",
   "execution_count": 24,
   "metadata": {},
   "outputs": [
    {
     "data": {
      "text/html": [
       "<div>\n",
       "<style scoped>\n",
       "    .dataframe tbody tr th:only-of-type {\n",
       "        vertical-align: middle;\n",
       "    }\n",
       "\n",
       "    .dataframe tbody tr th {\n",
       "        vertical-align: top;\n",
       "    }\n",
       "\n",
       "    .dataframe thead th {\n",
       "        text-align: right;\n",
       "    }\n",
       "</style>\n",
       "<table border=\"1\" class=\"dataframe\">\n",
       "  <thead>\n",
       "    <tr style=\"text-align: right;\">\n",
       "      <th></th>\n",
       "      <th>Autores</th>\n",
       "      <th>Orientadores</th>\n",
       "      <th>Instituições</th>\n",
       "      <th>DataPublicação</th>\n",
       "      <th>Formato</th>\n",
       "    </tr>\n",
       "  </thead>\n",
       "  <tbody>\n",
       "    <tr>\n",
       "      <th>0</th>\n",
       "      <td>Solange Puntel Mostafa</td>\n",
       "      <td>Constanca Marcondes Cesar</td>\n",
       "      <td>PUC_SP</td>\n",
       "      <td>1985</td>\n",
       "      <td>Tese de Doutorado</td>\n",
       "    </tr>\n",
       "    <tr>\n",
       "      <th>1</th>\n",
       "      <td>Emanuelle Georgia Amaral Ferreira</td>\n",
       "      <td>Carlos Alberto Avila Araujo</td>\n",
       "      <td>UFMG</td>\n",
       "      <td>2016</td>\n",
       "      <td>Tese de Mestrado</td>\n",
       "    </tr>\n",
       "    <tr>\n",
       "      <th>2</th>\n",
       "      <td>Beatriz Alves de Sousa</td>\n",
       "      <td>Joana Maria Pedro</td>\n",
       "      <td>UFSC</td>\n",
       "      <td>2014</td>\n",
       "      <td>Tese de Doutorado</td>\n",
       "    </tr>\n",
       "    <tr>\n",
       "      <th>3</th>\n",
       "      <td>Clara Maria Weber Barretto</td>\n",
       "      <td>Nice Menezes de Figueiredo</td>\n",
       "      <td>UNB</td>\n",
       "      <td>1981</td>\n",
       "      <td>Tese de Mestrado</td>\n",
       "    </tr>\n",
       "    <tr>\n",
       "      <th>4</th>\n",
       "      <td>Joana D'Arc Páscoa Bezerra Fernandes</td>\n",
       "      <td>Osvaldo de Souza</td>\n",
       "      <td>UFC</td>\n",
       "      <td>2018</td>\n",
       "      <td>Tese de Mestrado</td>\n",
       "    </tr>\n",
       "  </tbody>\n",
       "</table>\n",
       "</div>"
      ],
      "text/plain": [
       "                                Autores                 Orientadores  \\\n",
       "0                Solange Puntel Mostafa    Constanca Marcondes Cesar   \n",
       "1     Emanuelle Georgia Amaral Ferreira  Carlos Alberto Avila Araujo   \n",
       "2                Beatriz Alves de Sousa            Joana Maria Pedro   \n",
       "3            Clara Maria Weber Barretto   Nice Menezes de Figueiredo   \n",
       "4  Joana D'Arc Páscoa Bezerra Fernandes             Osvaldo de Souza   \n",
       "\n",
       "  Instituições  DataPublicação            Formato  \n",
       "0       PUC_SP            1985  Tese de Doutorado  \n",
       "1         UFMG            2016   Tese de Mestrado  \n",
       "2         UFSC            2014  Tese de Doutorado  \n",
       "3          UNB            1981   Tese de Mestrado  \n",
       "4          UFC            2018   Tese de Mestrado  "
      ]
     },
     "execution_count": 24,
     "metadata": {},
     "output_type": "execute_result"
    }
   ],
   "source": [
    "#Ver o resultado\n",
    "biblio.head()"
   ]
  },
  {
   "cell_type": "markdown",
   "metadata": {},
   "source": [
    "### Gráfico de distribuição de instituições X Documentos publicados\n"
   ]
  },
  {
   "cell_type": "code",
   "execution_count": 25,
   "metadata": {},
   "outputs": [
    {
     "data": {
      "text/plain": [
       "UFRGS         447\n",
       "UFSC          127\n",
       "UFMG           97\n",
       "UNB            49\n",
       "UNESP          41\n",
       "UFSCAR         34\n",
       "UFBA           24\n",
       "USP            22\n",
       "UFPB           18\n",
       "IBICT          17\n",
       "UFC            13\n",
       "UFTM           12\n",
       "UFF            11\n",
       "PUC_CAMP        7\n",
       "UEL             6\n",
       "FIOCRUZ         6\n",
       "UFV             5\n",
       "UFPA            5\n",
       "PUC_SP          4\n",
       "UFSM            4\n",
       "METODISTA       4\n",
       "UFRN            4\n",
       "UNICAMP         4\n",
       "UFRRJ           3\n",
       "UFES            3\n",
       "UFS             3\n",
       "UNILASALLE      2\n",
       "UFJF            2\n",
       "FURG            2\n",
       "MB              2\n",
       "UFG             2\n",
       "UFPE            2\n",
       "IEN             1\n",
       "UFAL            1\n",
       "CPRM            1\n",
       "PUC_GO          1\n",
       "UNIFESP         1\n",
       "UFMA            1\n",
       "UFGD            1\n",
       "MACKENZIE       1\n",
       "UCPEL           1\n",
       "UCB             1\n",
       "INPA            1\n",
       "UFAM            1\n",
       "ITA             1\n",
       "UNISINOS        1\n",
       "UNIPAMPA        1\n",
       "UFVJM           1\n",
       "UCS             1\n",
       "UNINTER         1\n",
       "Name: Instituições, dtype: int64"
      ]
     },
     "execution_count": 25,
     "metadata": {},
     "output_type": "execute_result"
    }
   ],
   "source": [
    "# value_counts() para obter a quantidade de valores por instituição\n",
    "biblio.Instituições.value_counts()"
   ]
  },
  {
   "cell_type": "code",
   "execution_count": 26,
   "metadata": {},
   "outputs": [
    {
     "data": {
      "image/png": "[encoded data removed]",
      "text/plain": [
       "<Figure size 1152x576 with 1 Axes>"
      ]
     },
     "metadata": {
      "needs_background": "light"
     },
     "output_type": "display_data"
    }
   ],
   "source": [
    "#grafico tipo área usando o plot.area()\n",
    "biblio.Instituições.value_counts().plot.area(figsize = (16,8));"
   ]
  },
  {
   "cell_type": "code",
   "execution_count": 27,
   "metadata": {},
   "outputs": [
    {
     "data": {
      "image/png": "[encoded data removed]",
      "text/plain": [
       "<Figure size 1152x576 with 1 Axes>"
      ]
     },
     "metadata": {
      "needs_background": "light"
     },
     "output_type": "display_data"
    }
   ],
   "source": [
    "#grafico tipo barra usando o plot.bar()\n",
    "\n",
    "biblio.Instituições.value_counts().plot.bar(figsize = (16,8));"
   ]
  },
  {
   "cell_type": "code",
   "execution_count": 28,
   "metadata": {},
   "outputs": [
    {
     "data": {
      "image/png": "[encoded data removed]",
      "text/plain": [
       "<Figure size 1152x720 with 1 Axes>"
      ]
     },
     "metadata": {
      "needs_background": "light"
     },
     "output_type": "display_data"
    }
   ],
   "source": [
    "#grafico tipo barra horizontal usando o plot.barh()\n",
    "\n",
    "biblio.Instituições.value_counts().plot.barh(figsize = (16,10));"
   ]
  },
  {
   "cell_type": "markdown",
   "metadata": {},
   "source": [
    "### Gráfico de distribuição temporal de documentos X Ano"
   ]
  },
  {
   "cell_type": "code",
   "execution_count": 29,
   "metadata": {},
   "outputs": [
    {
     "data": {
      "text/plain": [
       "2017    98\n",
       "2018    91\n",
       "2016    88\n",
       "2015    79\n",
       "2019    77\n",
       "2014    76\n",
       "2012    65\n",
       "2013    50\n",
       "2009    44\n",
       "2011    40\n",
       "2007    35\n",
       "2010    29\n",
       "2005    25\n",
       "2008    24\n",
       "2004    19\n",
       "2006    16\n",
       "2002    16\n",
       "2001    16\n",
       "2003    13\n",
       "1992     9\n",
       "1980     9\n",
       "1991     7\n",
       "1999     6\n",
       "2000     6\n",
       "1981     6\n",
       "1985     5\n",
       "1998     5\n",
       "1983     4\n",
       "1987     4\n",
       "1990     4\n",
       "2020     4\n",
       "1993     3\n",
       "1986     3\n",
       "1994     3\n",
       "1984     3\n",
       "1995     3\n",
       "1982     3\n",
       "1996     3\n",
       "1979     3\n",
       "1989     2\n",
       "1988     1\n",
       "1997     1\n",
       "1978     1\n",
       "1972     1\n",
       "Name: DataPublicação, dtype: int64"
      ]
     },
     "execution_count": 29,
     "metadata": {},
     "output_type": "execute_result"
    }
   ],
   "source": [
    "# atribuir uma variável para armazena a contagem de documentos por ano\n",
    "\n",
    "ano = biblio.DataPublicação.value_counts()\n",
    "ano"
   ]
  },
  {
   "cell_type": "code",
   "execution_count": 30,
   "metadata": {},
   "outputs": [
    {
     "data": {
      "image/png": "[encoded data removed]",
      "text/plain": [
       "<Figure size 1152x576 with 1 Axes>"
      ]
     },
     "metadata": {
      "needs_background": "light"
     },
     "output_type": "display_data"
    }
   ],
   "source": [
    "# plotando gráfico de barras com o método plot.par()\n",
    "\n",
    "ano.plot.bar(figsize = (16,8));"
   ]
  },
  {
   "cell_type": "markdown",
   "metadata": {},
   "source": [
    "### Gráfico de distribuição de formatos de documentos X números de documentos"
   ]
  },
  {
   "cell_type": "code",
   "execution_count": 31,
   "metadata": {},
   "outputs": [
    {
     "data": {
      "text/plain": [
       "Tese de Mestrado     764\n",
       "Tese de Doutorado    236\n",
       "Name: Formato, dtype: int64"
      ]
     },
     "execution_count": 31,
     "metadata": {},
     "output_type": "execute_result"
    }
   ],
   "source": [
    "# Contagem de cada valor dentro da variável\n",
    "\n",
    "biblio.Formato.value_counts()"
   ]
  },
  {
   "cell_type": "code",
   "execution_count": 32,
   "metadata": {},
   "outputs": [
    {
     "data": {
      "image/png": "[encoded data removed]",
      "text/plain": [
       "<Figure size 432x288 with 1 Axes>"
      ]
     },
     "metadata": {
      "needs_background": "light"
     },
     "output_type": "display_data"
    }
   ],
   "source": [
    "# Plotar gráfico horizontal com plot.barh()\n",
    "\n",
    "biblio.Formato.value_counts().plot.barh();"
   ]
  },
  {
   "cell_type": "markdown",
   "metadata": {},
   "source": [
    "### Tabela dos 20 orientadores “advisors” mais influentes"
   ]
  },
  {
   "cell_type": "code",
   "execution_count": 33,
   "metadata": {},
   "outputs": [],
   "source": [
    "# Converter o vaulue_counts(), que é Série, para DataFrame e armazenar o resultado em uma variáve\n",
    "top20 = biblio.Orientadores.value_counts().to_frame()"
   ]
  },
  {
   "cell_type": "code",
   "execution_count": 34,
   "metadata": {},
   "outputs": [],
   "source": [
    "# Transformar o index em coluna\n",
    "\n",
    "top20.reset_index(level=0, inplace=True)"
   ]
  },
  {
   "cell_type": "code",
   "execution_count": 35,
   "metadata": {},
   "outputs": [],
   "source": [
    "# Renomear as colunas\n",
    "top20.columns = ['Orientador', 'Trabalhos Orientados']"
   ]
  },
  {
   "cell_type": "code",
   "execution_count": 36,
   "metadata": {},
   "outputs": [
    {
     "data": {
      "text/html": [
       "<div>\n",
       "<style scoped>\n",
       "    .dataframe tbody tr th:only-of-type {\n",
       "        vertical-align: middle;\n",
       "    }\n",
       "\n",
       "    .dataframe tbody tr th {\n",
       "        vertical-align: top;\n",
       "    }\n",
       "\n",
       "    .dataframe thead th {\n",
       "        text-align: right;\n",
       "    }\n",
       "</style>\n",
       "<table border=\"1\" class=\"dataframe\">\n",
       "  <thead>\n",
       "    <tr style=\"text-align: right;\">\n",
       "      <th></th>\n",
       "      <th>Orientador</th>\n",
       "      <th>Trabalhos Orientados</th>\n",
       "    </tr>\n",
       "  </thead>\n",
       "  <tbody>\n",
       "    <tr>\n",
       "      <th>0</th>\n",
       "      <td>Maria Helena Weber</td>\n",
       "      <td>35</td>\n",
       "    </tr>\n",
       "    <tr>\n",
       "      <th>1</th>\n",
       "      <td>Alex Fernando Teixeira Primo</td>\n",
       "      <td>30</td>\n",
       "    </tr>\n",
       "    <tr>\n",
       "      <th>2</th>\n",
       "      <td>Valdir Jose Morigi</td>\n",
       "      <td>25</td>\n",
       "    </tr>\n",
       "    <tr>\n",
       "      <th>3</th>\n",
       "      <td>Márcia Benetti</td>\n",
       "      <td>24</td>\n",
       "    </tr>\n",
       "    <tr>\n",
       "      <th>4</th>\n",
       "      <td>Nilda Aparecida Jacks</td>\n",
       "      <td>24</td>\n",
       "    </tr>\n",
       "    <tr>\n",
       "      <th>5</th>\n",
       "      <td>Sonia Elisa Caregnato</td>\n",
       "      <td>23</td>\n",
       "    </tr>\n",
       "    <tr>\n",
       "      <th>6</th>\n",
       "      <td>Karla Maria Muller</td>\n",
       "      <td>23</td>\n",
       "    </tr>\n",
       "    <tr>\n",
       "      <th>7</th>\n",
       "      <td>Miriam de Souza Rossini</td>\n",
       "      <td>21</td>\n",
       "    </tr>\n",
       "    <tr>\n",
       "      <th>8</th>\n",
       "      <td>Ilza Maria Tourinho Girardi</td>\n",
       "      <td>20</td>\n",
       "    </tr>\n",
       "    <tr>\n",
       "      <th>9</th>\n",
       "      <td>Alexandre Rocha da Silva</td>\n",
       "      <td>19</td>\n",
       "    </tr>\n",
       "    <tr>\n",
       "      <th>10</th>\n",
       "      <td>Ana Claudia Gruszynski</td>\n",
       "      <td>19</td>\n",
       "    </tr>\n",
       "    <tr>\n",
       "      <th>11</th>\n",
       "      <td>Ida Regina Chitto Stumpf</td>\n",
       "      <td>18</td>\n",
       "    </tr>\n",
       "    <tr>\n",
       "      <th>12</th>\n",
       "      <td>Rudimar Baldissera</td>\n",
       "      <td>16</td>\n",
       "    </tr>\n",
       "    <tr>\n",
       "      <th>13</th>\n",
       "      <td>Cida Golin</td>\n",
       "      <td>16</td>\n",
       "    </tr>\n",
       "    <tr>\n",
       "      <th>14</th>\n",
       "      <td>Nísia Martins do Rosário</td>\n",
       "      <td>13</td>\n",
       "    </tr>\n",
       "    <tr>\n",
       "      <th>15</th>\n",
       "      <td>Virginia Pradelina da Silveira Fonseca</td>\n",
       "      <td>13</td>\n",
       "    </tr>\n",
       "    <tr>\n",
       "      <th>16</th>\n",
       "      <td>Ana Taís Martins Portanova Barros</td>\n",
       "      <td>13</td>\n",
       "    </tr>\n",
       "    <tr>\n",
       "      <th>17</th>\n",
       "      <td>Flávio Antônio Camargo Porcello</td>\n",
       "      <td>10</td>\n",
       "    </tr>\n",
       "    <tr>\n",
       "      <th>18</th>\n",
       "      <td>Ursula Blattmann</td>\n",
       "      <td>9</td>\n",
       "    </tr>\n",
       "    <tr>\n",
       "      <th>19</th>\n",
       "      <td>Francisco das Chagas de Souza</td>\n",
       "      <td>9</td>\n",
       "    </tr>\n",
       "  </tbody>\n",
       "</table>\n",
       "</div>"
      ],
      "text/plain": [
       "                                Orientador  Trabalhos Orientados\n",
       "0                       Maria Helena Weber                    35\n",
       "1             Alex Fernando Teixeira Primo                    30\n",
       "2                       Valdir Jose Morigi                    25\n",
       "3                           Márcia Benetti                    24\n",
       "4                    Nilda Aparecida Jacks                    24\n",
       "5                    Sonia Elisa Caregnato                    23\n",
       "6                       Karla Maria Muller                    23\n",
       "7                  Miriam de Souza Rossini                    21\n",
       "8              Ilza Maria Tourinho Girardi                    20\n",
       "9                 Alexandre Rocha da Silva                    19\n",
       "10                  Ana Claudia Gruszynski                    19\n",
       "11                Ida Regina Chitto Stumpf                    18\n",
       "12                      Rudimar Baldissera                    16\n",
       "13                              Cida Golin                    16\n",
       "14                Nísia Martins do Rosário                    13\n",
       "15  Virginia Pradelina da Silveira Fonseca                    13\n",
       "16       Ana Taís Martins Portanova Barros                    13\n",
       "17         Flávio Antônio Camargo Porcello                    10\n",
       "18                        Ursula Blattmann                     9\n",
       "19           Francisco das Chagas de Souza                     9"
      ]
     },
     "execution_count": 36,
     "metadata": {},
     "output_type": "execute_result"
    }
   ],
   "source": [
    "# Visualizar a tabela\n",
    "top20.head(20)"
   ]
  }
 ],
 "metadata": {
  "kernelspec": {
   "display_name": "Python 3",
   "language": "python",
   "name": "python3"
  },
  "language_info": {
   "codemirror_mode": {
    "name": "ipython",
    "version": 3
   },
   "file_extension": ".py",
   "mimetype": "text/x-python",
   "name": "python",
   "nbconvert_exporter": "python",
   "pygments_lexer": "ipython3",
   "version": "3.7.6"
  }
 },
 "nbformat": 4,
 "nbformat_minor": 4
}
