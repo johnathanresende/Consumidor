{
  "nbformat": 4,
  "nbformat_minor": 0,
  "metadata": {
    "colab": {
      "name": "bdtd_CI",
      "provenance": []
    },
    "kernelspec": {
      "name": "python3",
      "display_name": "Python 3"
    }
  },
  "cells": [
    {
      "cell_type": "markdown",
      "metadata": {
        "id": "hHEW61wi5wio",
        "colab_type": "text"
      },
      "source": [
        "# Exercício BDTD\n",
        "\n",
        "\n",
        "\n",
        "\n",
        "1. Limpeza dos Dados\n",
        "2. Instituições\n",
        "3. Data Publicação\n",
        "4. Doutorado ou Mestrado?\n",
        "5. 20 Orientadores que mais orientaram\n",
        "6. Tudo Acesso Aberto?\n",
        "7. Breve visualização dos Programas de Pós-Graduação\n",
        "8. Tudo em Português?\n",
        "\n",
        "\n",
        "\n",
        "\n",
        "\n",
        "\n",
        "\n"
      ]
    },
    {
      "cell_type": "code",
      "metadata": {
        "id": "B72MQJncuIBb",
        "colab_type": "code",
        "colab": {}
      },
      "source": [
        "#importação convencional das bibliotecas\n",
        "import pandas as pd\n",
        "import numpy as np"
      ],
      "execution_count": 1,
      "outputs": []
    },
    {
      "cell_type": "code",
      "metadata": {
        "id": "OduRATgAx_cx",
        "colab_type": "code",
        "colab": {}
      },
      "source": [
        "#caminho do arquivo e leitura no pandas\n",
        "bdtd = pd.read_csv('/content/drive/My Drive/Colab Notebooks/bdtd2.csv',  sep=';')"
      ],
      "execution_count": 2,
      "outputs": []
    },
    {
      "cell_type": "markdown",
      "metadata": {
        "id": "yD5IBTUu6Kbc",
        "colab_type": "text"
      },
      "source": [
        "## Limpeza dos Dados"
      ]
    },
    {
      "cell_type": "code",
      "metadata": {
        "id": "pS3V7dPXytc3",
        "colab_type": "code",
        "colab": {
          "base_uri": "https://localhost:8080/",
          "height": 323
        },
        "outputId": "ff298f21-5a4a-421a-9904-bb16bb64fbb5"
      },
      "source": [
        "#conferir a quantidade de céluas vazias\n",
        "bdtd.isnull().sum()"
      ],
      "execution_count": 3,
      "outputs": [
        {
          "output_type": "execute_result",
          "data": {
            "text/plain": [
              "id                     0\n",
              "title                  0\n",
              "abstract_por         110\n",
              "authors                0\n",
              "contributors          14\n",
              "subjectsCNPQ         690\n",
              "subjectsPOR          240\n",
              "institutions           0\n",
              "departements         723\n",
              "programs             615\n",
              "types                  0\n",
              "accesslevel            0\n",
              "publicationDates       0\n",
              "urls                   0\n",
              "formats                0\n",
              "languages              5\n",
              "Unnamed: 16         1000\n",
              "dtype: int64"
            ]
          },
          "metadata": {
            "tags": []
          },
          "execution_count": 3
        }
      ]
    },
    {
      "cell_type": "code",
      "metadata": {
        "id": "bNYlQiCCzr68",
        "colab_type": "code",
        "colab": {
          "base_uri": "https://localhost:8080/",
          "height": 34
        },
        "outputId": "965faad3-e5e7-47aa-a726-b41ea0643ac3"
      },
      "source": [
        "#calcula o total de células no DataFrame\n",
        "totalCelulas = np.product(bdtd.shape)\n",
        "\n",
        "#conta o número de valores faltantes por coluna\n",
        "faltanteCount = bdtd.isnull().sum()\n",
        "\n",
        "#calcula o número total de valores faltantes\n",
        "totalFaltante = faltanteCount.sum()\n",
        "\n",
        "#calcula a porcentagem de valores faltantes\n",
        "print(\"A Base de dados contém\", round(((totalFaltante/totalCelulas) * 100), 2), \"%\", \"de valores faltantes.\")"
      ],
      "execution_count": 4,
      "outputs": [
        {
          "output_type": "stream",
          "text": [
            "A Base de dados contém 19.98 % de valores faltantes.\n"
          ],
          "name": "stdout"
        }
      ]
    },
    {
      "cell_type": "code",
      "metadata": {
        "id": "qy5YdyQ60My-",
        "colab_type": "code",
        "colab": {
          "base_uri": "https://localhost:8080/",
          "height": 425
        },
        "outputId": "0e10d3de-01b5-49b8-acac-a9c8ba93df39"
      },
      "source": [
        "#visualizar os tipos dos dados\n",
        "bdtd.info()"
      ],
      "execution_count": 5,
      "outputs": [
        {
          "output_type": "stream",
          "text": [
            "<class 'pandas.core.frame.DataFrame'>\n",
            "RangeIndex: 1000 entries, 0 to 999\n",
            "Data columns (total 17 columns):\n",
            " #   Column            Non-Null Count  Dtype  \n",
            "---  ------            --------------  -----  \n",
            " 0   id                1000 non-null   object \n",
            " 1   title             1000 non-null   object \n",
            " 2   abstract_por      890 non-null    object \n",
            " 3   authors           1000 non-null   object \n",
            " 4   contributors      986 non-null    object \n",
            " 5   subjectsCNPQ      310 non-null    object \n",
            " 6   subjectsPOR       760 non-null    object \n",
            " 7   institutions      1000 non-null   object \n",
            " 8   departements      277 non-null    object \n",
            " 9   programs          385 non-null    object \n",
            " 10  types             1000 non-null   object \n",
            " 11  accesslevel       1000 non-null   object \n",
            " 12  publicationDates  1000 non-null   int64  \n",
            " 13  urls              1000 non-null   object \n",
            " 14  formats           1000 non-null   object \n",
            " 15  languages         995 non-null    object \n",
            " 16  Unnamed: 16       0 non-null      float64\n",
            "dtypes: float64(1), int64(1), object(15)\n",
            "memory usage: 132.9+ KB\n"
          ],
          "name": "stdout"
        }
      ]
    },
    {
      "cell_type": "code",
      "metadata": {
        "id": "8joUr5lH0Z-O",
        "colab_type": "code",
        "colab": {}
      },
      "source": [
        "#eliminar coluna Unnamed\n",
        "bdtd.drop(['Unnamed: 16'], axis = 1, inplace = True)"
      ],
      "execution_count": 6,
      "outputs": []
    },
    {
      "cell_type": "code",
      "metadata": {
        "id": "T3NK6GTp0pEk",
        "colab_type": "code",
        "colab": {}
      },
      "source": [
        "#tirar a palavra \"primary\" na coluna authors\n",
        "bdtd['authors'] = bdtd['authors'].str.replace('primary\\[','')"
      ],
      "execution_count": 7,
      "outputs": []
    },
    {
      "cell_type": "code",
      "metadata": {
        "id": "DFphc7kA1KwO",
        "colab_type": "code",
        "colab": {}
      },
      "source": [
        "#tirar tudo que vem depois de 'NA' na coluna Autores, com uma função lambda\n",
        "bdtd['authors'] = bdtd['authors'].apply(lambda x: x.split('(NA)')[0])"
      ],
      "execution_count": 8,
      "outputs": []
    },
    {
      "cell_type": "code",
      "metadata": {
        "id": "kt33jOgq1Re7",
        "colab_type": "code",
        "colab": {}
      },
      "source": [
        "#apagar o colchete restante\n",
        "bdtd['authors'] = bdtd['authors'].str.replace('\\[','')"
      ],
      "execution_count": 9,
      "outputs": []
    },
    {
      "cell_type": "code",
      "metadata": {
        "id": "KA_dUaDz1aEe",
        "colab_type": "code",
        "colab": {}
      },
      "source": [
        "#retirar link de sites, caso exista\n",
        "bdtd['authors'] = bdtd['authors'].apply(lambda x: x.split('(http')[0])"
      ],
      "execution_count": 10,
      "outputs": []
    },
    {
      "cell_type": "code",
      "metadata": {
        "id": "1EkmYNry1voO",
        "colab_type": "code",
        "colab": {}
      },
      "source": [
        "#tirar a palavra \"advisor\" na coluna contributors\n",
        "bdtd['contributors'] = bdtd['contributors'].str.replace('advisor\\[','')\n"
      ],
      "execution_count": 11,
      "outputs": []
    },
    {
      "cell_type": "code",
      "metadata": {
        "id": "PUkHjHcO2ED9",
        "colab_type": "code",
        "colab": {}
      },
      "source": [
        "#tirar o colchete restante\n",
        "bdtd['contributors'] = bdtd['contributors'].str.replace('\\[','')"
      ],
      "execution_count": 12,
      "outputs": []
    },
    {
      "cell_type": "code",
      "metadata": {
        "id": "wQiQYm8H2Os3",
        "colab_type": "code",
        "colab": {}
      },
      "source": [
        "#tirar o que vem depois de '(NA)' com o método partition\n",
        "bdtd['contributors'] = bdtd['contributors'].str.partition('(NA)')"
      ],
      "execution_count": 13,
      "outputs": []
    },
    {
      "cell_type": "code",
      "metadata": {
        "id": "BgAhZlS82z_p",
        "colab_type": "code",
        "colab": {}
      },
      "source": [
        "#retirar link de sites, caso exista\n",
        "bdtd['contributors'] = bdtd['contributors'].str.partition('(http')"
      ],
      "execution_count": 14,
      "outputs": []
    },
    {
      "cell_type": "code",
      "metadata": {
        "id": "B-T2LmCp2beU",
        "colab_type": "code",
        "colab": {}
      },
      "source": [
        "#reverter nome e sobrenome da coluna authors\n",
        "bdtd['authors'] = bdtd['authors'].str.split(', ').str[::-1].str.join(' ')"
      ],
      "execution_count": 15,
      "outputs": []
    },
    {
      "cell_type": "code",
      "metadata": {
        "id": "P6Eq_yCT2eyK",
        "colab_type": "code",
        "colab": {}
      },
      "source": [
        "#reverter nome e sobrenome da coluna contributors\n",
        "bdtd['contributors'] = bdtd['contributors'].str.split(', ').str[::-1].str.join(' ')"
      ],
      "execution_count": 16,
      "outputs": []
    },
    {
      "cell_type": "code",
      "metadata": {
        "id": "MGl8CaORyNcM",
        "colab_type": "code",
        "colab": {
          "base_uri": "https://localhost:8080/",
          "height": 530
        },
        "outputId": "ce9aba16-ae84-4f96-bb3e-65669d4e6d11"
      },
      "source": [
        "bdtd.head()"
      ],
      "execution_count": 17,
      "outputs": [
        {
          "output_type": "execute_result",
          "data": {
            "text/html": [
              "<div>\n",
              "<style scoped>\n",
              "    .dataframe tbody tr th:only-of-type {\n",
              "        vertical-align: middle;\n",
              "    }\n",
              "\n",
              "    .dataframe tbody tr th {\n",
              "        vertical-align: top;\n",
              "    }\n",
              "\n",
              "    .dataframe thead th {\n",
              "        text-align: right;\n",
              "    }\n",
              "</style>\n",
              "<table border=\"1\" class=\"dataframe\">\n",
              "  <thead>\n",
              "    <tr style=\"text-align: right;\">\n",
              "      <th></th>\n",
              "      <th>id</th>\n",
              "      <th>title</th>\n",
              "      <th>abstract_por</th>\n",
              "      <th>authors</th>\n",
              "      <th>contributors</th>\n",
              "      <th>subjectsCNPQ</th>\n",
              "      <th>subjectsPOR</th>\n",
              "      <th>institutions</th>\n",
              "      <th>departements</th>\n",
              "      <th>programs</th>\n",
              "      <th>types</th>\n",
              "      <th>accesslevel</th>\n",
              "      <th>publicationDates</th>\n",
              "      <th>urls</th>\n",
              "      <th>formats</th>\n",
              "      <th>languages</th>\n",
              "    </tr>\n",
              "  </thead>\n",
              "  <tbody>\n",
              "    <tr>\n",
              "      <th>0</th>\n",
              "      <td>IBICT_77d1eb7b389c69740e277776e0530e63</td>\n",
              "      <td>Ciência da Informação e Ciência da Administraç...</td>\n",
              "      <td>Discussão teórica sobre o fenômeno informação,...</td>\n",
              "      <td>José Alexandre da Costa Alves</td>\n",
              "      <td>Lena Vania Ribeiro Pinheiro</td>\n",
              "      <td>CNPQ::CIENCIAS SOCIAIS APLICADAS::CIENCIA DA I...</td>\n",
              "      <td>Ciência da Informação|Ciência da Administração...</td>\n",
              "      <td>IBICT</td>\n",
              "      <td>Instituto de Arte e Comunicação Social</td>\n",
              "      <td>Programa de Pós-Graduação em Ciência da Inform...</td>\n",
              "      <td>masterThesis</td>\n",
              "      <td>openAccess</td>\n",
              "      <td>2008</td>\n",
              "      <td>http://ridi.ibict.br/handle/123456789/899</td>\n",
              "      <td>masterThesis</td>\n",
              "      <td>por</td>\n",
              "    </tr>\n",
              "    <tr>\n",
              "      <th>1</th>\n",
              "      <td>USP_bea7da2e49601e79f98fd69323101945</td>\n",
              "      <td>Recuperação de informação: análise sobre a con...</td>\n",
              "      <td>Desde o seu nascimento, a Ciência da Informaçã...</td>\n",
              "      <td>Edberto Ferneda</td>\n",
              "      <td>Johanna Wilhelmina Smit</td>\n",
              "      <td>NaN</td>\n",
              "      <td>Ciência da Computação|Ciência da Informação|In...</td>\n",
              "      <td>USP</td>\n",
              "      <td>NaN</td>\n",
              "      <td>Ciências da Comunicação</td>\n",
              "      <td>doctoralThesis</td>\n",
              "      <td>openAccess</td>\n",
              "      <td>2003</td>\n",
              "      <td>http://www.teses.usp.br/teses/disponiveis/27/2...</td>\n",
              "      <td>doctoralThesis</td>\n",
              "      <td>por</td>\n",
              "    </tr>\n",
              "    <tr>\n",
              "      <th>2</th>\n",
              "      <td>USP_7d0f145b7a64bc6f27520948fda5d075</td>\n",
              "      <td>Neologismos na ciência da informação</td>\n",
              "      <td>Por meio de abordagem terminológica de neologi...</td>\n",
              "      <td>Jéssica Camara Siqueira</td>\n",
              "      <td>Ieda Maria Alves</td>\n",
              "      <td>NaN</td>\n",
              "      <td>Ciência da Informação|Migração Conceitual|Neol...</td>\n",
              "      <td>USP</td>\n",
              "      <td>NaN</td>\n",
              "      <td>Filologia e Língua Portuguesa</td>\n",
              "      <td>doctoralThesis</td>\n",
              "      <td>openAccess</td>\n",
              "      <td>2015</td>\n",
              "      <td>http://www.teses.usp.br/teses/disponiveis/8/81...</td>\n",
              "      <td>doctoralThesis</td>\n",
              "      <td>por</td>\n",
              "    </tr>\n",
              "    <tr>\n",
              "      <th>3</th>\n",
              "      <td>UEL_307a5855445e889557f31c386a8a91f6</td>\n",
              "      <td>A interdisciplinaridade na Ciência da Informaç...</td>\n",
              "      <td>A Ciência da Informação (CI) nasce num momento...</td>\n",
              "      <td>Marcos Antonio de Moraes</td>\n",
              "      <td>Ana Esmeralda Carelli .</td>\n",
              "      <td>NaN</td>\n",
              "      <td>NaN</td>\n",
              "      <td>UEL</td>\n",
              "      <td>NaN</td>\n",
              "      <td>NaN</td>\n",
              "      <td>masterThesis</td>\n",
              "      <td>openAccess</td>\n",
              "      <td>2014</td>\n",
              "      <td>http://www.bibliotecadigital.uel.br/document/?...</td>\n",
              "      <td>masterThesis</td>\n",
              "      <td>por</td>\n",
              "    </tr>\n",
              "    <tr>\n",
              "      <th>4</th>\n",
              "      <td>IBICT_21c514c699f4e78d52fbd369013fab19</td>\n",
              "      <td>Da necessidade ao conhecimento: recuperação da...</td>\n",
              "      <td>Na origem constitutiva da Ciência da Informaçã...</td>\n",
              "      <td>Rafaela Boeira Giordano</td>\n",
              "      <td>Jorge Calmon de Almeida Biochini</td>\n",
              "      <td>CNPQ::CIENCIAS SOCIAIS APLICADAS::CIENCIA DA I...</td>\n",
              "      <td>Recuperação da informação|recuperação da infor...</td>\n",
              "      <td>IBICT</td>\n",
              "      <td>Ciência da Informação</td>\n",
              "      <td>Programa de Pós-Graduação em Ciência da Inform...</td>\n",
              "      <td>masterThesis</td>\n",
              "      <td>openAccess</td>\n",
              "      <td>2011</td>\n",
              "      <td>http://ridi.ibict.br/handle/123456789/746</td>\n",
              "      <td>masterThesis</td>\n",
              "      <td>por</td>\n",
              "    </tr>\n",
              "  </tbody>\n",
              "</table>\n",
              "</div>"
            ],
            "text/plain": [
              "                                       id  ... languages\n",
              "0  IBICT_77d1eb7b389c69740e277776e0530e63  ...       por\n",
              "1    USP_bea7da2e49601e79f98fd69323101945  ...       por\n",
              "2    USP_7d0f145b7a64bc6f27520948fda5d075  ...       por\n",
              "3    UEL_307a5855445e889557f31c386a8a91f6  ...       por\n",
              "4  IBICT_21c514c699f4e78d52fbd369013fab19  ...       por\n",
              "\n",
              "[5 rows x 16 columns]"
            ]
          },
          "metadata": {
            "tags": []
          },
          "execution_count": 17
        }
      ]
    },
    {
      "cell_type": "markdown",
      "metadata": {
        "id": "rubImjEg6eR3",
        "colab_type": "text"
      },
      "source": [
        "## Intituições"
      ]
    },
    {
      "cell_type": "code",
      "metadata": {
        "id": "P-cxm2qS23ZJ",
        "colab_type": "code",
        "colab": {
          "base_uri": "https://localhost:8080/",
          "height": 884
        },
        "outputId": "82eec3cf-9c81-4b88-f61a-8d55dccc2f60"
      },
      "source": [
        "# value_counts() para obter o número de instituições\n",
        "bdtd.institutions.value_counts()"
      ],
      "execution_count": 18,
      "outputs": [
        {
          "output_type": "execute_result",
          "data": {
            "text/plain": [
              "UFMG         289\n",
              "UFSC         149\n",
              "IBICT         95\n",
              "UFRJ          76\n",
              "UNB           61\n",
              "UFPB          58\n",
              "UFPE          47\n",
              "UNESP         46\n",
              "USP           29\n",
              "UFSCAR        24\n",
              "UEL           11\n",
              "UFRGS         11\n",
              "UTFPR         11\n",
              "FIOCRUZ       10\n",
              "UFRN           9\n",
              "UFC            6\n",
              "UFV            6\n",
              "UFF            5\n",
              "UFAM           5\n",
              "UFS            5\n",
              "UFPA           4\n",
              "UFES           3\n",
              "UNICAMP        3\n",
              "UFG            3\n",
              "UNISINOS       3\n",
              "LNCC           2\n",
              "MACKENZIE      2\n",
              "PUC_SP         2\n",
              "UCB            2\n",
              "UFJF           2\n",
              "UFMA           2\n",
              "UFABC          1\n",
              "UEG            1\n",
              "UFSM           1\n",
              "MB             1\n",
              "UFRPE          1\n",
              "UNIJUI         1\n",
              "UFPEL          1\n",
              "UEM            1\n",
              "UFN            1\n",
              "FJP            1\n",
              "FURB           1\n",
              "UFAL           1\n",
              "FGV            1\n",
              "UCS            1\n",
              "UNIOESTE       1\n",
              "UEPB           1\n",
              "ITA            1\n",
              "UNIFESP        1\n",
              "UFTM           1\n",
              "Name: institutions, dtype: int64"
            ]
          },
          "metadata": {
            "tags": []
          },
          "execution_count": 18
        }
      ]
    },
    {
      "cell_type": "code",
      "metadata": {
        "id": "Wte7Esrn30g6",
        "colab_type": "code",
        "colab": {
          "base_uri": "https://localhost:8080/",
          "height": 531
        },
        "outputId": "4de40fd9-e3b8-46d6-d246-4c5abd3279ab"
      },
      "source": [
        "#grafico tipo barra usando o plot.bar()\n",
        "bdtd.institutions.value_counts().plot.bar(figsize = (16,8));"
      ],
      "execution_count": 19,
      "outputs": [
        {
          "output_type": "display_data",
          "data": {
            "image/png": "[encoded data removed]",
            "text/plain": [
              "<Figure size 1152x576 with 1 Axes>"
            ]
          },
          "metadata": {
            "tags": [],
            "needs_background": "light"
          }
        }
      ]
    },
    {
      "cell_type": "markdown",
      "metadata": {
        "id": "tGsNsvWE6mWF",
        "colab_type": "text"
      },
      "source": [
        "## Data Publicação"
      ]
    },
    {
      "cell_type": "code",
      "metadata": {
        "id": "9CoINvm64V82",
        "colab_type": "code",
        "colab": {
          "base_uri": "https://localhost:8080/",
          "height": 850
        },
        "outputId": "ad1dea06-69d2-4334-a940-8e6767cd24ce"
      },
      "source": [
        "# atribuir uma variável para armazena a contagem de documentos por ano\n",
        "ano = bdtd.publicationDates.value_counts()\n",
        "ano"
      ],
      "execution_count": 20,
      "outputs": [
        {
          "output_type": "execute_result",
          "data": {
            "text/plain": [
              "2012    84\n",
              "2017    73\n",
              "2014    57\n",
              "2005    56\n",
              "2016    55\n",
              "2015    55\n",
              "2018    54\n",
              "2013    52\n",
              "2011    47\n",
              "2019    45\n",
              "2006    36\n",
              "2001    34\n",
              "2008    33\n",
              "2004    30\n",
              "2007    29\n",
              "2003    26\n",
              "2009    24\n",
              "2010    23\n",
              "2002    22\n",
              "2000    22\n",
              "1992    15\n",
              "1999    14\n",
              "1982    11\n",
              "1997    10\n",
              "1998     9\n",
              "1996     7\n",
              "1978     7\n",
              "1983     7\n",
              "1994     6\n",
              "1987     6\n",
              "1985     6\n",
              "1990     5\n",
              "1991     4\n",
              "1975     4\n",
              "1977     4\n",
              "1979     4\n",
              "1973     3\n",
              "1972     3\n",
              "1989     3\n",
              "1993     3\n",
              "1981     2\n",
              "1988     2\n",
              "1976     2\n",
              "1974     2\n",
              "1980     1\n",
              "1984     1\n",
              "1986     1\n",
              "1995     1\n",
              "Name: publicationDates, dtype: int64"
            ]
          },
          "metadata": {
            "tags": []
          },
          "execution_count": 20
        }
      ]
    },
    {
      "cell_type": "code",
      "metadata": {
        "id": "_7E8CQmW4rBM",
        "colab_type": "code",
        "colab": {
          "base_uri": "https://localhost:8080/",
          "height": 498
        },
        "outputId": "fbcfedfe-5b1c-44ae-c562-065a7171f950"
      },
      "source": [
        "# plotando gráfico de barras com o método plot.par()\n",
        "ano.plot.bar(figsize = (16,8));"
      ],
      "execution_count": 21,
      "outputs": [
        {
          "output_type": "display_data",
          "data": {
            "image/png": "[encoded data removed]",
            "text/plain": [
              "<Figure size 1152x576 with 1 Axes>"
            ]
          },
          "metadata": {
            "tags": [],
            "needs_background": "light"
          }
        }
      ]
    },
    {
      "cell_type": "markdown",
      "metadata": {
        "id": "D1yt-RkQ6slv",
        "colab_type": "text"
      },
      "source": [
        "## Doutorado ou Mestrado?"
      ]
    },
    {
      "cell_type": "code",
      "metadata": {
        "id": "R6ZLHYf24vrf",
        "colab_type": "code",
        "colab": {
          "base_uri": "https://localhost:8080/",
          "height": 85
        },
        "outputId": "10c2d25a-6aa9-4730-d0c8-361a7253abab"
      },
      "source": [
        "# Contagem de cada valor dentro da variável\n",
        "bdtd.types.value_counts()"
      ],
      "execution_count": 22,
      "outputs": [
        {
          "output_type": "execute_result",
          "data": {
            "text/plain": [
              "masterThesis                     771\n",
              "doctoralThesis                   228\n",
              "bachelorThesis|doctoralThesis      1\n",
              "Name: types, dtype: int64"
            ]
          },
          "metadata": {
            "tags": []
          },
          "execution_count": 22
        }
      ]
    },
    {
      "cell_type": "code",
      "metadata": {
        "id": "pemNY_JJ42P2",
        "colab_type": "code",
        "colab": {
          "base_uri": "https://localhost:8080/",
          "height": 265
        },
        "outputId": "95111d39-78d5-4796-ade7-fdd2520bc099"
      },
      "source": [
        "# Plotar gráfico horizontal com plot.barh()\n",
        "bdtd.types.value_counts().sort_values().plot.barh();"
      ],
      "execution_count": 23,
      "outputs": [
        {
          "output_type": "display_data",
          "data": {
            "image/png": "[encoded data removed]",
            "text/plain": [
              "<Figure size 432x288 with 1 Axes>"
            ]
          },
          "metadata": {
            "tags": [],
            "needs_background": "light"
          }
        }
      ]
    },
    {
      "cell_type": "markdown",
      "metadata": {
        "id": "SL_DhPM_7cFz",
        "colab_type": "text"
      },
      "source": [
        "## 20 Orientadores que mais orientaram"
      ]
    },
    {
      "cell_type": "code",
      "metadata": {
        "id": "IPz4H4sI5A88",
        "colab_type": "code",
        "colab": {}
      },
      "source": [
        "# 20 Orientadores mais frequentes, transformando a contagem em DataFrame\n",
        "top20 = bdtd.contributors.value_counts().to_frame()"
      ],
      "execution_count": 24,
      "outputs": []
    },
    {
      "cell_type": "code",
      "metadata": {
        "id": "pR4-2-Wk7Hf7",
        "colab_type": "code",
        "colab": {}
      },
      "source": [
        "#reseta o Index do Dataframe para manipulação\n",
        "top20.reset_index(level=0, inplace=True)"
      ],
      "execution_count": 25,
      "outputs": []
    },
    {
      "cell_type": "code",
      "metadata": {
        "id": "O6-lNKJu7N0s",
        "colab_type": "code",
        "colab": {}
      },
      "source": [
        "# Renomear as colunas\n",
        "top20.columns = ['Orientador', 'Trabalhos Orientados']"
      ],
      "execution_count": 26,
      "outputs": []
    },
    {
      "cell_type": "code",
      "metadata": {
        "id": "rOatG67c7Vlg",
        "colab_type": "code",
        "colab": {
          "base_uri": "https://localhost:8080/",
          "height": 669
        },
        "outputId": "e652e695-afac-4cbd-dbf2-bf0ca9906e9d"
      },
      "source": [
        "# Visualizar a tabela\n",
        "top20.head(20)"
      ],
      "execution_count": 27,
      "outputs": [
        {
          "output_type": "execute_result",
          "data": {
            "text/html": [
              "<div>\n",
              "<style scoped>\n",
              "    .dataframe tbody tr th:only-of-type {\n",
              "        vertical-align: middle;\n",
              "    }\n",
              "\n",
              "    .dataframe tbody tr th {\n",
              "        vertical-align: top;\n",
              "    }\n",
              "\n",
              "    .dataframe thead th {\n",
              "        text-align: right;\n",
              "    }\n",
              "</style>\n",
              "<table border=\"1\" class=\"dataframe\">\n",
              "  <thead>\n",
              "    <tr style=\"text-align: right;\">\n",
              "      <th></th>\n",
              "      <th>Orientador</th>\n",
              "      <th>Trabalhos Orientados</th>\n",
              "    </tr>\n",
              "  </thead>\n",
              "  <tbody>\n",
              "    <tr>\n",
              "      <th>0</th>\n",
              "      <td>Ricardo Rodrigues Barbosa</td>\n",
              "      <td>31</td>\n",
              "    </tr>\n",
              "    <tr>\n",
              "      <th>1</th>\n",
              "      <td>Marlene de Oliveira</td>\n",
              "      <td>17</td>\n",
              "    </tr>\n",
              "    <tr>\n",
              "      <th>2</th>\n",
              "      <td>Maria Aparecida Moura</td>\n",
              "      <td>15</td>\n",
              "    </tr>\n",
              "    <tr>\n",
              "      <th>3</th>\n",
              "      <td>Ursula Blattmann</td>\n",
              "      <td>14</td>\n",
              "    </tr>\n",
              "    <tr>\n",
              "      <th>4</th>\n",
              "      <td>Ana Maria Rezende Cabral</td>\n",
              "      <td>13</td>\n",
              "    </tr>\n",
              "    <tr>\n",
              "      <th>5</th>\n",
              "      <td>Rosali Fernandez de Souza</td>\n",
              "      <td>13</td>\n",
              "    </tr>\n",
              "    <tr>\n",
              "      <th>6</th>\n",
              "      <td>Regina Maria Marteleto</td>\n",
              "      <td>13</td>\n",
              "    </tr>\n",
              "    <tr>\n",
              "      <th>7</th>\n",
              "      <td>Ligia Maria Moreira Dumont</td>\n",
              "      <td>12</td>\n",
              "    </tr>\n",
              "    <tr>\n",
              "      <th>8</th>\n",
              "      <td>Lígia Maria Arruda Café</td>\n",
              "      <td>12</td>\n",
              "    </tr>\n",
              "    <tr>\n",
              "      <th>9</th>\n",
              "      <td>Isis Paim</td>\n",
              "      <td>11</td>\n",
              "    </tr>\n",
              "    <tr>\n",
              "      <th>10</th>\n",
              "      <td>Eduardo Jose Wense Dias</td>\n",
              "      <td>11</td>\n",
              "    </tr>\n",
              "    <tr>\n",
              "      <th>11</th>\n",
              "      <td>Beatriz Valadares Cendon</td>\n",
              "      <td>11</td>\n",
              "    </tr>\n",
              "    <tr>\n",
              "      <th>12</th>\n",
              "      <td>Gustavo Henrique de Araújo Freire</td>\n",
              "      <td>10</td>\n",
              "    </tr>\n",
              "    <tr>\n",
              "      <th>13</th>\n",
              "      <td>Jorge Tadeu de Ramos Neves</td>\n",
              "      <td>10</td>\n",
              "    </tr>\n",
              "    <tr>\n",
              "      <th>14</th>\n",
              "      <td>Maria Nélida González de Gómez</td>\n",
              "      <td>9</td>\n",
              "    </tr>\n",
              "    <tr>\n",
              "      <th>15</th>\n",
              "      <td>Alcenir Soares dos Reis</td>\n",
              "      <td>9</td>\n",
              "    </tr>\n",
              "    <tr>\n",
              "      <th>16</th>\n",
              "      <td>Marcello Peixoto Bax</td>\n",
              "      <td>9</td>\n",
              "    </tr>\n",
              "    <tr>\n",
              "      <th>17</th>\n",
              "      <td>Gilda Maria Braga</td>\n",
              "      <td>9</td>\n",
              "    </tr>\n",
              "    <tr>\n",
              "      <th>18</th>\n",
              "      <td>Marta Araujo Tavares Ferreira</td>\n",
              "      <td>8</td>\n",
              "    </tr>\n",
              "    <tr>\n",
              "      <th>19</th>\n",
              "      <td>Ana Maria Pereira Cardoso</td>\n",
              "      <td>8</td>\n",
              "    </tr>\n",
              "  </tbody>\n",
              "</table>\n",
              "</div>"
            ],
            "text/plain": [
              "                           Orientador  Trabalhos Orientados\n",
              "0           Ricardo Rodrigues Barbosa                    31\n",
              "1                 Marlene de Oliveira                    17\n",
              "2               Maria Aparecida Moura                    15\n",
              "3                    Ursula Blattmann                    14\n",
              "4            Ana Maria Rezende Cabral                    13\n",
              "5           Rosali Fernandez de Souza                    13\n",
              "6              Regina Maria Marteleto                    13\n",
              "7          Ligia Maria Moreira Dumont                    12\n",
              "8             Lígia Maria Arruda Café                    12\n",
              "9                           Isis Paim                    11\n",
              "10            Eduardo Jose Wense Dias                    11\n",
              "11           Beatriz Valadares Cendon                    11\n",
              "12  Gustavo Henrique de Araújo Freire                    10\n",
              "13         Jorge Tadeu de Ramos Neves                    10\n",
              "14     Maria Nélida González de Gómez                     9\n",
              "15            Alcenir Soares dos Reis                     9\n",
              "16               Marcello Peixoto Bax                     9\n",
              "17                  Gilda Maria Braga                     9\n",
              "18      Marta Araujo Tavares Ferreira                     8\n",
              "19          Ana Maria Pereira Cardoso                     8"
            ]
          },
          "metadata": {
            "tags": []
          },
          "execution_count": 27
        }
      ]
    },
    {
      "cell_type": "markdown",
      "metadata": {
        "id": "J3LXt1xW7ygF",
        "colab_type": "text"
      },
      "source": [
        "##Tudo Acesso Aberto?"
      ]
    },
    {
      "cell_type": "code",
      "metadata": {
        "id": "A5hGcGxD7s4L",
        "colab_type": "code",
        "colab": {
          "base_uri": "https://localhost:8080/",
          "height": 68
        },
        "outputId": "e6f64f76-cfe5-4331-9e49-d937b36c9f3e"
      },
      "source": [
        "bdtd.accesslevel.value_counts()"
      ],
      "execution_count": 28,
      "outputs": [
        {
          "output_type": "execute_result",
          "data": {
            "text/plain": [
              "openAccess         997\n",
              "embargoedAccess      3\n",
              "Name: accesslevel, dtype: int64"
            ]
          },
          "metadata": {
            "tags": []
          },
          "execution_count": 28
        }
      ]
    },
    {
      "cell_type": "markdown",
      "metadata": {
        "id": "LWlMX9AU8Ffh",
        "colab_type": "text"
      },
      "source": [
        "## Breve visualização dos Programas de Pós-Graduação"
      ]
    },
    {
      "cell_type": "code",
      "metadata": {
        "id": "XQpUNfG47wAg",
        "colab_type": "code",
        "colab": {
          "base_uri": "https://localhost:8080/",
          "height": 221
        },
        "outputId": "9448e4c2-8bb1-4181-f86a-f60c6ce8aed1"
      },
      "source": [
        "bdtd.programs.value_counts()"
      ],
      "execution_count": 29,
      "outputs": [
        {
          "output_type": "execute_result",
          "data": {
            "text/plain": [
              "Programa de Pós-Graduação em Ciência da Informação                       180\n",
              "Pós-Graduação em Ciência da Informação                                    47\n",
              "Ciência da Informação                                                     25\n",
              "Programa de Pos Graduacao em Ciencia da Informacao                        22\n",
              "Programa de Pos Graduacao em Ciencia da Computacao                        12\n",
              "                                                                        ... \n",
              "Programa de Pós-graduação em Ciência Política                              1\n",
              "Programa de Pós-graduação em Química (Mestrado Profissional)               1\n",
              "Programa de Pós-Graduação em Antropologia Social                           1\n",
              "Curso de Mestrado em Administração Pública                                 1\n",
              "Programa de Pós-graduação em Educação em Ciências e Matemática (PRPG)      1\n",
              "Name: programs, Length: 69, dtype: int64"
            ]
          },
          "metadata": {
            "tags": []
          },
          "execution_count": 29
        }
      ]
    },
    {
      "cell_type": "markdown",
      "metadata": {
        "id": "Zm0ti2Lx8Wop",
        "colab_type": "text"
      },
      "source": [
        "## Tudo em Português?"
      ]
    },
    {
      "cell_type": "code",
      "metadata": {
        "id": "ji05oLW08A8T",
        "colab_type": "code",
        "colab": {
          "base_uri": "https://localhost:8080/",
          "height": 68
        },
        "outputId": "f0d852de-ba1d-488a-87a9-99ddfca2131a"
      },
      "source": [
        "bdtd.languages.value_counts()"
      ],
      "execution_count": 30,
      "outputs": [
        {
          "output_type": "execute_result",
          "data": {
            "text/plain": [
              "por    994\n",
              "eng      1\n",
              "Name: languages, dtype: int64"
            ]
          },
          "metadata": {
            "tags": []
          },
          "execution_count": 30
        }
      ]
    },
    {
      "cell_type": "markdown",
      "metadata": {
        "id": "9zMG1I6b95YA",
        "colab_type": "text"
      },
      "source": [
        "## Conclusão\n",
        "\n",
        "# Instituições\n",
        "UFMG, UFSC e IBICT são as instituições que mais produzem teses e dissertações na área.\n",
        "# Data Publicação\n",
        "2012 foi o ano com maior número de produções.\n",
        "# Doutorado ou Mestrado? \n",
        "A maioria dos documentos são teses de metrado.\n",
        "# Tudo acesso aberto?\n",
        "Apenas três documentos não são de acesso aberto. \n",
        "# Tudo em Português?\n",
        "Há um único documento em língua inglesa. "
      ]
    }
  ]
}