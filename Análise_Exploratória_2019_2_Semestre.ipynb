{
 "cells": [
  {
   "cell_type": "markdown",
   "metadata": {},
   "source": [
    "# Análise Dados Consumidor \n",
    "\n",
    "## 2° Semestre de 2019"
   ]
  },
  {
   "cell_type": "markdown",
   "metadata": {},
   "source": [
    "#  Etapas da Análise"
   ]
  },
  {
   "cell_type": "markdown",
   "metadata": {},
   "source": [
    "A Análise dos Dados do Consumidor seguirá algumas estapas do framework CRISP-DM:\n",
    "\n",
    "1. Definição do Problema\n",
    "2. Obtenção dos Dados\n",
    "3. Exploração dos Dados\n",
    "4. Preparação dos Dados"
   ]
  },
  {
   "cell_type": "markdown",
   "metadata": {},
   "source": [
    "# 1 . Definição do Problema"
   ]
  },
  {
   "cell_type": "markdown",
   "metadata": {},
   "source": [
    "## Entender o Problema\n",
    "\n",
    "O consumidor.gov.br é uma plataforma destinada a solucionar problemas relativos ao consumo. Os consumidores relatam seus respectivos problemas e, na plataforma, busca-se a solução dos impasses. Os dados das reclamações são públicos e transparentes, disponíveis no site: http://www.dados.gov.br/dataset/reclamacoes-do-consumidor-gov-br1vv. Constam os dados a partir de 2014 até 2019. "
   ]
  },
  {
   "cell_type": "markdown",
   "metadata": {},
   "source": [
    "# 2. Obtenção dos dados\n"
   ]
  },
  {
   "cell_type": "code",
   "execution_count": 1,
   "metadata": {},
   "outputs": [],
   "source": [
    "#importar as bibliotecas necessárias\n",
    "\n",
    "import pandas as pd\n",
    "import numpy as np\n",
    "import matplotlib.pyplot as plt\n",
    "import seaborn as sns\n",
    "\n",
    "#permitir visualizar todas as colunas\n",
    "pd.options.display.max_columns = None\n",
    "\n",
    "#renderizar os gráficos diretamente no notebook\n",
    "#%matplotlib inline"
   ]
  },
  {
   "cell_type": "code",
   "execution_count": 2,
   "metadata": {},
   "outputs": [],
   "source": [
    "consumidor = pd.read_csv('2019_2semestre.csv',sep=';',encoding='latin1')"
   ]
  },
  {
   "cell_type": "markdown",
   "metadata": {},
   "source": [
    "# 3. Exploração dos Dados"
   ]
  },
  {
   "cell_type": "code",
   "execution_count": 3,
   "metadata": {},
   "outputs": [
    {
     "data": {
      "text/html": [
       "<div>\n",
       "<style scoped>\n",
       "    .dataframe tbody tr th:only-of-type {\n",
       "        vertical-align: middle;\n",
       "    }\n",
       "\n",
       "    .dataframe tbody tr th {\n",
       "        vertical-align: top;\n",
       "    }\n",
       "\n",
       "    .dataframe thead th {\n",
       "        text-align: right;\n",
       "    }\n",
       "</style>\n",
       "<table border=\"1\" class=\"dataframe\">\n",
       "  <thead>\n",
       "    <tr style=\"text-align: right;\">\n",
       "      <th></th>\n",
       "      <th>Região</th>\n",
       "      <th>UF</th>\n",
       "      <th>Cidade</th>\n",
       "      <th>Sexo</th>\n",
       "      <th>Faixa Etária</th>\n",
       "      <th>Data Finalização</th>\n",
       "      <th>Tempo Resposta</th>\n",
       "      <th>Nome Fantasia</th>\n",
       "      <th>Segmento de Mercado</th>\n",
       "      <th>Área</th>\n",
       "      <th>Assunto</th>\n",
       "      <th>Grupo Problema</th>\n",
       "      <th>Problema</th>\n",
       "      <th>Como Comprou Contratou</th>\n",
       "      <th>Procurou Empresa</th>\n",
       "      <th>Respondida</th>\n",
       "      <th>Situação</th>\n",
       "      <th>Avaliação Reclamação</th>\n",
       "      <th>Nota do Consumidor</th>\n",
       "      <th>Total</th>\n",
       "    </tr>\n",
       "  </thead>\n",
       "  <tbody>\n",
       "    <tr>\n",
       "      <th>0</th>\n",
       "      <td>NE</td>\n",
       "      <td>PE</td>\n",
       "      <td>Petrolina</td>\n",
       "      <td>M</td>\n",
       "      <td>entre 31 a 40 anos</td>\n",
       "      <td>05/07/2019</td>\n",
       "      <td>10.0</td>\n",
       "      <td>Banco Bradesco</td>\n",
       "      <td>Bancos, Financeiras e Administradoras de Cartão</td>\n",
       "      <td>Serviços Financeiros</td>\n",
       "      <td>Conta corrente / Salário / Poupança /Conta Apo...</td>\n",
       "      <td>Cobrança / Contestação</td>\n",
       "      <td>Cobrança submetendo a ofensa, constrangimento ...</td>\n",
       "      <td>Domicílio</td>\n",
       "      <td>S</td>\n",
       "      <td>S</td>\n",
       "      <td>Finalizada não avaliada</td>\n",
       "      <td>Não Avaliada</td>\n",
       "      <td>NaN</td>\n",
       "      <td>1</td>\n",
       "    </tr>\n",
       "    <tr>\n",
       "      <th>1</th>\n",
       "      <td>SE</td>\n",
       "      <td>SP</td>\n",
       "      <td>São Carlos</td>\n",
       "      <td>F</td>\n",
       "      <td>entre 51 a 60 anos</td>\n",
       "      <td>03/07/2019</td>\n",
       "      <td>NaN</td>\n",
       "      <td>Azul Linhas Aéreas</td>\n",
       "      <td>Transporte Aéreo</td>\n",
       "      <td>Transportes</td>\n",
       "      <td>Cargas e Encomendas</td>\n",
       "      <td>Vício de Qualidade</td>\n",
       "      <td>Extravio/ avaria de bagagem, carga, correspond...</td>\n",
       "      <td>Loja física</td>\n",
       "      <td>S</td>\n",
       "      <td>N</td>\n",
       "      <td>Finalizada não avaliada</td>\n",
       "      <td>Não Avaliada</td>\n",
       "      <td>NaN</td>\n",
       "      <td>1</td>\n",
       "    </tr>\n",
       "    <tr>\n",
       "      <th>2</th>\n",
       "      <td>SE</td>\n",
       "      <td>SP</td>\n",
       "      <td>São Paulo</td>\n",
       "      <td>M</td>\n",
       "      <td>entre 31 a 40 anos</td>\n",
       "      <td>03/07/2019</td>\n",
       "      <td>NaN</td>\n",
       "      <td>Samsung</td>\n",
       "      <td>Fabricantes - Eletroeletrônicos,  Produtos de ...</td>\n",
       "      <td>Produtos de Telefonia e Informática</td>\n",
       "      <td>Aparelho celular</td>\n",
       "      <td>Entrega do Produto</td>\n",
       "      <td>Produto entregue incompleto / diferente do  pe...</td>\n",
       "      <td>Ganhei de presente</td>\n",
       "      <td>S</td>\n",
       "      <td>N</td>\n",
       "      <td>Finalizada não avaliada</td>\n",
       "      <td>Não Avaliada</td>\n",
       "      <td>NaN</td>\n",
       "      <td>1</td>\n",
       "    </tr>\n",
       "    <tr>\n",
       "      <th>3</th>\n",
       "      <td>SE</td>\n",
       "      <td>RJ</td>\n",
       "      <td>Rio de Janeiro</td>\n",
       "      <td>F</td>\n",
       "      <td>entre 61 a 70 anos</td>\n",
       "      <td>02/07/2019</td>\n",
       "      <td>10.0</td>\n",
       "      <td>Tim</td>\n",
       "      <td>Operadoras de Telecomunicações (Telefonia, Int...</td>\n",
       "      <td>Produtos de Telefonia e Informática</td>\n",
       "      <td>Aparelho celular</td>\n",
       "      <td>Contrato / Oferta</td>\n",
       "      <td>Oferta não cumprida / serviço não fornecido/ v...</td>\n",
       "      <td>Internet</td>\n",
       "      <td>S</td>\n",
       "      <td>S</td>\n",
       "      <td>Finalizada não avaliada</td>\n",
       "      <td>Não Avaliada</td>\n",
       "      <td>NaN</td>\n",
       "      <td>1</td>\n",
       "    </tr>\n",
       "    <tr>\n",
       "      <th>4</th>\n",
       "      <td>NE</td>\n",
       "      <td>PE</td>\n",
       "      <td>Recife</td>\n",
       "      <td>M</td>\n",
       "      <td>entre 21 a 30 anos</td>\n",
       "      <td>04/07/2019</td>\n",
       "      <td>10.0</td>\n",
       "      <td>Vivo - Telefônica (GVT)</td>\n",
       "      <td>Operadoras de Telecomunicações (Telefonia, Int...</td>\n",
       "      <td>Telecomunicações</td>\n",
       "      <td>Internet Fixa</td>\n",
       "      <td>Vício de Qualidade</td>\n",
       "      <td>Suspensão ou desligamento indevido do serviço</td>\n",
       "      <td>Não comprei / contratei</td>\n",
       "      <td>S</td>\n",
       "      <td>S</td>\n",
       "      <td>Finalizada avaliada</td>\n",
       "      <td>Não Resolvida</td>\n",
       "      <td>1.0</td>\n",
       "      <td>1</td>\n",
       "    </tr>\n",
       "  </tbody>\n",
       "</table>\n",
       "</div>"
      ],
      "text/plain": [
       "  Região  UF          Cidade Sexo        Faixa Etária Data Finalização  \\\n",
       "0     NE  PE       Petrolina    M  entre 31 a 40 anos       05/07/2019   \n",
       "1     SE  SP      São Carlos    F  entre 51 a 60 anos       03/07/2019   \n",
       "2     SE  SP       São Paulo    M  entre 31 a 40 anos       03/07/2019   \n",
       "3     SE  RJ  Rio de Janeiro    F  entre 61 a 70 anos       02/07/2019   \n",
       "4     NE  PE          Recife    M  entre 21 a 30 anos       04/07/2019   \n",
       "\n",
       "   Tempo Resposta            Nome Fantasia  \\\n",
       "0            10.0           Banco Bradesco   \n",
       "1             NaN       Azul Linhas Aéreas   \n",
       "2             NaN                  Samsung   \n",
       "3            10.0                      Tim   \n",
       "4            10.0  Vivo - Telefônica (GVT)   \n",
       "\n",
       "                                 Segmento de Mercado  \\\n",
       "0    Bancos, Financeiras e Administradoras de Cartão   \n",
       "1                                   Transporte Aéreo   \n",
       "2  Fabricantes - Eletroeletrônicos,  Produtos de ...   \n",
       "3  Operadoras de Telecomunicações (Telefonia, Int...   \n",
       "4  Operadoras de Telecomunicações (Telefonia, Int...   \n",
       "\n",
       "                                  Área  \\\n",
       "0                 Serviços Financeiros   \n",
       "1                          Transportes   \n",
       "2  Produtos de Telefonia e Informática   \n",
       "3  Produtos de Telefonia e Informática   \n",
       "4                     Telecomunicações   \n",
       "\n",
       "                                             Assunto          Grupo Problema  \\\n",
       "0  Conta corrente / Salário / Poupança /Conta Apo...  Cobrança / Contestação   \n",
       "1                                Cargas e Encomendas      Vício de Qualidade   \n",
       "2                                   Aparelho celular      Entrega do Produto   \n",
       "3                                   Aparelho celular       Contrato / Oferta   \n",
       "4                                      Internet Fixa      Vício de Qualidade   \n",
       "\n",
       "                                            Problema   Como Comprou Contratou  \\\n",
       "0  Cobrança submetendo a ofensa, constrangimento ...                Domicílio   \n",
       "1  Extravio/ avaria de bagagem, carga, correspond...              Loja física   \n",
       "2  Produto entregue incompleto / diferente do  pe...       Ganhei de presente   \n",
       "3  Oferta não cumprida / serviço não fornecido/ v...                 Internet   \n",
       "4      Suspensão ou desligamento indevido do serviço  Não comprei / contratei   \n",
       "\n",
       "  Procurou Empresa Respondida                 Situação Avaliação Reclamação  \\\n",
       "0                S          S  Finalizada não avaliada         Não Avaliada   \n",
       "1                S          N  Finalizada não avaliada         Não Avaliada   \n",
       "2                S          N  Finalizada não avaliada         Não Avaliada   \n",
       "3                S          S  Finalizada não avaliada         Não Avaliada   \n",
       "4                S          S      Finalizada avaliada        Não Resolvida   \n",
       "\n",
       "   Nota do Consumidor  Total  \n",
       "0                 NaN      1  \n",
       "1                 NaN      1  \n",
       "2                 NaN      1  \n",
       "3                 NaN      1  \n",
       "4                 1.0      1  "
      ]
     },
     "execution_count": 3,
     "metadata": {},
     "output_type": "execute_result"
    }
   ],
   "source": [
    "# Mostrar as cinco primeiras linhas do DataFrame\n",
    "consumidor.head()"
   ]
  },
  {
   "cell_type": "markdown",
   "metadata": {},
   "source": [
    "## Dicionário dos Dados\n",
    "\n",
    "- <b>Região</b>: Sigla da região geográfica do consumidor reclamante.\n",
    "- <b>UF </b>: Sigla do estado do consumidor reclamante.                         \n",
    "- <b>Cidade</b>: Município do consumidor reclamante.              \n",
    "- <b> Sexo</b>: Sigla do sexo do consumidor reclamante.                    \n",
    "- <b>Faixa Etária </b>: Faixa etária do consumidor.            \n",
    "- <b>Data Finalização</b>: Data de finalização da reclamação.         \n",
    "- <b>Tempo Resposta</b>: Número de dias para a resposta da reclamação, entre a Data de Resposta e a Data de Abertura, desconsiderado o tempo que a reclamação tenha ficado em análise pelo Gestor (se for o caso).   \n",
    "- <b>Nome Fantasia</b>:  Nome pelo qual a empresa reclamada é conhecida no mercado.          \n",
    "- <b>Segmento de Mercado</b>: Principal segmento de mercado da empresa participante. \n",
    "- <b>Área</b>: Área à qual pertence o assunto objeto da reclamação.\n",
    "- <b>Assunto</b>: Assunto objeto da reclamação.             \n",
    "- <b>Grupo Problema</b>: Agrupamento do qual faz parte o problema classificado na reclamação.         \n",
    "- <b>Problema</b> : Descrição do problema objeto da reclamação.           \n",
    "- <b>Como Comprou Contratou</b>: Descrição do meio utilizado para contratação/aquisição do produto ou serviço reclamado. \n",
    "- <b>Procurou Empresa</b> :  Sigla da resposta do consumidor à pergunta: “Procurou a empresa para solucionar o problema?”.\n",
    "- <b>Respondida</b>: Sigla que indica se a empresa respondeu à reclamação ou não.              \n",
    "- <b>Situação</b>:  Situação atual da reclamação no sistema.              \n",
    "- <b>Avaliação Reclamação</b>:  Situação atual da reclamação no sistema.              \n",
    "- <b>Nota do Consumidor</b> : Número da nota de 1 a 5 atribuída pelo consumidor ao atendimento da empresa.     \n",
    "- <b>Total</b> : Contador de reclamações (totalizador para facilitar o uso dos dados em tabela dinâmica).                  \n"
   ]
  },
  {
   "cell_type": "markdown",
   "metadata": {},
   "source": [
    "## Qual o tipo das variáveis?"
   ]
  },
  {
   "cell_type": "code",
   "execution_count": 4,
   "metadata": {},
   "outputs": [
    {
     "name": "stdout",
     "output_type": "stream",
     "text": [
      "<class 'pandas.core.frame.DataFrame'>\n",
      "RangeIndex: 423391 entries, 0 to 423390\n",
      "Data columns (total 20 columns):\n",
      " #   Column                  Non-Null Count   Dtype  \n",
      "---  ------                  --------------   -----  \n",
      " 0   Região                  423391 non-null  object \n",
      " 1   UF                      423391 non-null  object \n",
      " 2   Cidade                  423391 non-null  object \n",
      " 3   Sexo                    423391 non-null  object \n",
      " 4   Faixa Etária            423391 non-null  object \n",
      " 5   Data Finalização        423391 non-null  object \n",
      " 6   Tempo Resposta          419016 non-null  float64\n",
      " 7   Nome Fantasia           423391 non-null  object \n",
      " 8   Segmento de Mercado     423391 non-null  object \n",
      " 9   Área                    423391 non-null  object \n",
      " 10  Assunto                 423391 non-null  object \n",
      " 11  Grupo Problema          423391 non-null  object \n",
      " 12  Problema                423391 non-null  object \n",
      " 13  Como Comprou Contratou  423391 non-null  object \n",
      " 14  Procurou Empresa        423391 non-null  object \n",
      " 15  Respondida              423391 non-null  object \n",
      " 16  Situação                423391 non-null  object \n",
      " 17  Avaliação Reclamação    423391 non-null  object \n",
      " 18  Nota do Consumidor      233068 non-null  float64\n",
      " 19  Total                   423391 non-null  int64  \n",
      "dtypes: float64(2), int64(1), object(17)\n",
      "memory usage: 64.6+ MB\n"
     ]
    }
   ],
   "source": [
    "#tipos cada variável\n",
    "consumidor.info()"
   ]
  },
  {
   "cell_type": "markdown",
   "metadata": {},
   "source": [
    "## Como é a distribuição estatística dos dados?\n",
    "\n",
    "\n"
   ]
  },
  {
   "cell_type": "code",
   "execution_count": 5,
   "metadata": {},
   "outputs": [
    {
     "data": {
      "text/html": [
       "<div>\n",
       "<style scoped>\n",
       "    .dataframe tbody tr th:only-of-type {\n",
       "        vertical-align: middle;\n",
       "    }\n",
       "\n",
       "    .dataframe tbody tr th {\n",
       "        vertical-align: top;\n",
       "    }\n",
       "\n",
       "    .dataframe thead th {\n",
       "        text-align: right;\n",
       "    }\n",
       "</style>\n",
       "<table border=\"1\" class=\"dataframe\">\n",
       "  <thead>\n",
       "    <tr style=\"text-align: right;\">\n",
       "      <th></th>\n",
       "      <th>Tempo Resposta</th>\n",
       "      <th>Nota do Consumidor</th>\n",
       "      <th>Total</th>\n",
       "    </tr>\n",
       "  </thead>\n",
       "  <tbody>\n",
       "    <tr>\n",
       "      <th>count</th>\n",
       "      <td>419016.000000</td>\n",
       "      <td>233068.000000</td>\n",
       "      <td>423391.0</td>\n",
       "    </tr>\n",
       "    <tr>\n",
       "      <th>mean</th>\n",
       "      <td>6.422013</td>\n",
       "      <td>3.275259</td>\n",
       "      <td>1.0</td>\n",
       "    </tr>\n",
       "    <tr>\n",
       "      <th>std</th>\n",
       "      <td>3.238597</td>\n",
       "      <td>1.736788</td>\n",
       "      <td>0.0</td>\n",
       "    </tr>\n",
       "    <tr>\n",
       "      <th>min</th>\n",
       "      <td>0.000000</td>\n",
       "      <td>1.000000</td>\n",
       "      <td>1.0</td>\n",
       "    </tr>\n",
       "    <tr>\n",
       "      <th>25%</th>\n",
       "      <td>4.000000</td>\n",
       "      <td>1.000000</td>\n",
       "      <td>1.0</td>\n",
       "    </tr>\n",
       "    <tr>\n",
       "      <th>50%</th>\n",
       "      <td>7.000000</td>\n",
       "      <td>4.000000</td>\n",
       "      <td>1.0</td>\n",
       "    </tr>\n",
       "    <tr>\n",
       "      <th>75%</th>\n",
       "      <td>9.000000</td>\n",
       "      <td>5.000000</td>\n",
       "      <td>1.0</td>\n",
       "    </tr>\n",
       "    <tr>\n",
       "      <th>max</th>\n",
       "      <td>13.000000</td>\n",
       "      <td>5.000000</td>\n",
       "      <td>1.0</td>\n",
       "    </tr>\n",
       "  </tbody>\n",
       "</table>\n",
       "</div>"
      ],
      "text/plain": [
       "       Tempo Resposta  Nota do Consumidor     Total\n",
       "count   419016.000000       233068.000000  423391.0\n",
       "mean         6.422013            3.275259       1.0\n",
       "std          3.238597            1.736788       0.0\n",
       "min          0.000000            1.000000       1.0\n",
       "25%          4.000000            1.000000       1.0\n",
       "50%          7.000000            4.000000       1.0\n",
       "75%          9.000000            5.000000       1.0\n",
       "max         13.000000            5.000000       1.0"
      ]
     },
     "execution_count": 5,
     "metadata": {},
     "output_type": "execute_result"
    }
   ],
   "source": [
    "consumidor.describe()"
   ]
  },
  {
   "cell_type": "markdown",
   "metadata": {},
   "source": [
    "A média de dias para conseguir uma resposta é 6 dias. <br> O máximo que alguém esperou foi 13 dias. <br>O mínimo foi 0 dias (logo, há empresas que respondem com extrema celeridade). <br> A nota média é 3. "
   ]
  },
  {
   "cell_type": "code",
   "execution_count": 6,
   "metadata": {},
   "outputs": [
    {
     "data": {
      "image/png": "[encoded data removed]",
      "text/plain": [
       "<Figure size 720x576 with 4 Axes>"
      ]
     },
     "metadata": {
      "needs_background": "light"
     },
     "output_type": "display_data"
    }
   ],
   "source": [
    "#ver histograma das variáveis numéricas\n",
    "consumidor.hist(figsize = (10,8));"
   ]
  },
  {
   "cell_type": "markdown",
   "metadata": {},
   "source": [
    "## Qual Região e Estado  possuem maiores números de reclamantes?"
   ]
  },
  {
   "cell_type": "code",
   "execution_count": 7,
   "metadata": {},
   "outputs": [
    {
     "data": {
      "text/plain": [
       "Região\n",
       "CO     46799\n",
       "N      14869\n",
       "NE     75340\n",
       "S      89456\n",
       "SE    196927\n",
       "Name: Região, dtype: int64"
      ]
     },
     "execution_count": 7,
     "metadata": {},
     "output_type": "execute_result"
    }
   ],
   "source": [
    "consumidor.groupby('Região')['Região'].count()"
   ]
  },
  {
   "cell_type": "code",
   "execution_count": 8,
   "metadata": {},
   "outputs": [
    {
     "data": {
      "text/plain": [
       "UF\n",
       "AC      1212\n",
       "AL      2819\n",
       "AM      3634\n",
       "AP       593\n",
       "BA     21097\n",
       "CE     12583\n",
       "DF     18117\n",
       "ES     10549\n",
       "GO     12893\n",
       "MA      9875\n",
       "MG     36872\n",
       "MS      7503\n",
       "MT      8286\n",
       "PA      5015\n",
       "PB      5749\n",
       "PE     13304\n",
       "PI      4418\n",
       "PR     41880\n",
       "RJ     36482\n",
       "RN      2983\n",
       "RO      1849\n",
       "RR       698\n",
       "RS     31627\n",
       "SC     15949\n",
       "SE      2512\n",
       "SP    113024\n",
       "TO      1868\n",
       "Name: UF, dtype: int64"
      ]
     },
     "execution_count": 8,
     "metadata": {},
     "output_type": "execute_result"
    }
   ],
   "source": [
    "consumidor.groupby('UF')['UF'].count()"
   ]
  },
  {
   "cell_type": "code",
   "execution_count": 9,
   "metadata": {},
   "outputs": [
    {
     "data": {
      "image/png": "[encoded data removed]",
      "text/plain": [
       "<Figure size 432x288 with 1 Axes>"
      ]
     },
     "metadata": {},
     "output_type": "display_data"
    }
   ],
   "source": [
    "#Gerar gráfico pizza para melhor visualização\n",
    "consumidor.groupby('Região')['Região'].count().plot(kind = 'pie', title = 'Reclamantes por Região'\n",
    "                                                    , legend = False, autopct='%1.1f%%');"
   ]
  },
  {
   "cell_type": "code",
   "execution_count": 10,
   "metadata": {},
   "outputs": [
    {
     "data": {
      "image/png": "[encoded data removed]",
      "text/plain": [
       "<Figure size 432x288 with 1 Axes>"
      ]
     },
     "metadata": {
      "needs_background": "light"
     },
     "output_type": "display_data"
    }
   ],
   "source": [
    "#Gráfico de barras para melhor visualização\n",
    "consumidor.groupby('UF')['UF'].count().plot.bar();"
   ]
  },
  {
   "cell_type": "markdown",
   "metadata": {},
   "source": [
    "O sudeste concentra o maior número de reclamantes. Isso se confirma ao ver a posição de São Paulo."
   ]
  },
  {
   "cell_type": "markdown",
   "metadata": {},
   "source": [
    "## Qual sexo possui mais reclamantes?"
   ]
  },
  {
   "cell_type": "code",
   "execution_count": 11,
   "metadata": {},
   "outputs": [
    {
     "data": {
      "text/plain": [
       "M    244566\n",
       "F    178825\n",
       "Name: Sexo, dtype: int64"
      ]
     },
     "execution_count": 11,
     "metadata": {},
     "output_type": "execute_result"
    }
   ],
   "source": [
    "consumidor[u'Sexo'].value_counts()"
   ]
  },
  {
   "cell_type": "code",
   "execution_count": 12,
   "metadata": {},
   "outputs": [
    {
     "data": {
      "image/png": "[encoded data removed]",
      "text/plain": [
       "<Figure size 432x288 with 1 Axes>"
      ]
     },
     "metadata": {},
     "output_type": "display_data"
    }
   ],
   "source": [
    "consumidor[u'Sexo'].value_counts().plot(kind = 'pie', title = 'Reclamantes por sexo', legend = False, autopct='%1.1f%%' );"
   ]
  },
  {
   "cell_type": "markdown",
   "metadata": {},
   "source": [
    "## Qual a faixa etária dos reclamantes?"
   ]
  },
  {
   "cell_type": "code",
   "execution_count": 13,
   "metadata": {},
   "outputs": [
    {
     "name": "stdout",
     "output_type": "stream",
     "text": [
      "entre 31 a 40 anos    136765\n",
      "entre 21 a 30 anos    119413\n",
      "entre 41 a 50 anos     69002\n",
      "entre 51 a 60 anos     44027\n",
      "entre 61 a 70 anos     30861\n",
      "mais de 70 anos        13979\n",
      "até 20 anos             9344\n",
      "Name: Faixa Etária, dtype: int64\n"
     ]
    }
   ],
   "source": [
    "idade = consumidor[u'Faixa Etária'].value_counts()\n",
    "print (idade)"
   ]
  },
  {
   "cell_type": "code",
   "execution_count": 14,
   "metadata": {},
   "outputs": [
    {
     "data": {
      "image/png": "[encoded data removed]",
      "text/plain": [
       "<Figure size 432x288 with 1 Axes>"
      ]
     },
     "metadata": {
      "needs_background": "light"
     },
     "output_type": "display_data"
    }
   ],
   "source": [
    "idade.plot.bar();"
   ]
  },
  {
   "cell_type": "markdown",
   "metadata": {},
   "source": [
    "## Há distinção de velocidade de atendimento entre os sexos?"
   ]
  },
  {
   "cell_type": "code",
   "execution_count": 15,
   "metadata": {},
   "outputs": [
    {
     "data": {
      "text/plain": [
       "Sexo  Tempo Resposta\n",
       "F     10.0              34813\n",
       "      8.0               26351\n",
       "      9.0               25521\n",
       "      7.0               20913\n",
       "      6.0               13516\n",
       "      1.0               10236\n",
       "      0.0                9742\n",
       "      5.0                9468\n",
       "      4.0                8592\n",
       "      2.0                8549\n",
       "      3.0                8485\n",
       "      11.0                590\n",
       "      12.0                 10\n",
       "M     10.0              47851\n",
       "      9.0               33912\n",
       "      8.0               33743\n",
       "      7.0               25686\n",
       "      0.0               18450\n",
       "      6.0               16892\n",
       "      1.0               15424\n",
       "      5.0               12725\n",
       "      2.0               12698\n",
       "      3.0               11981\n",
       "      4.0               11867\n",
       "      11.0                983\n",
       "      12.0                 14\n",
       "      13.0                  4\n",
       "Name: Tempo Resposta, dtype: int64"
      ]
     },
     "execution_count": 15,
     "metadata": {},
     "output_type": "execute_result"
    }
   ],
   "source": [
    "consumidor.groupby('Sexo')[u'Tempo Resposta'].value_counts()"
   ]
  },
  {
   "cell_type": "code",
   "execution_count": 16,
   "metadata": {},
   "outputs": [
    {
     "data": {
      "text/html": [
       "<div>\n",
       "<style scoped>\n",
       "    .dataframe tbody tr th:only-of-type {\n",
       "        vertical-align: middle;\n",
       "    }\n",
       "\n",
       "    .dataframe tbody tr th {\n",
       "        vertical-align: top;\n",
       "    }\n",
       "\n",
       "    .dataframe thead th {\n",
       "        text-align: right;\n",
       "    }\n",
       "</style>\n",
       "<table border=\"1\" class=\"dataframe\">\n",
       "  <thead>\n",
       "    <tr style=\"text-align: right;\">\n",
       "      <th></th>\n",
       "      <th>count</th>\n",
       "      <th>mean</th>\n",
       "      <th>std</th>\n",
       "      <th>min</th>\n",
       "      <th>25%</th>\n",
       "      <th>50%</th>\n",
       "      <th>75%</th>\n",
       "      <th>max</th>\n",
       "    </tr>\n",
       "    <tr>\n",
       "      <th>Sexo</th>\n",
       "      <th></th>\n",
       "      <th></th>\n",
       "      <th></th>\n",
       "      <th></th>\n",
       "      <th></th>\n",
       "      <th></th>\n",
       "      <th></th>\n",
       "      <th></th>\n",
       "    </tr>\n",
       "  </thead>\n",
       "  <tbody>\n",
       "    <tr>\n",
       "      <th>F</th>\n",
       "      <td>176786.0</td>\n",
       "      <td>6.545886</td>\n",
       "      <td>3.136405</td>\n",
       "      <td>0.0</td>\n",
       "      <td>4.0</td>\n",
       "      <td>7.0</td>\n",
       "      <td>9.0</td>\n",
       "      <td>12.0</td>\n",
       "    </tr>\n",
       "    <tr>\n",
       "      <th>M</th>\n",
       "      <td>242230.0</td>\n",
       "      <td>6.331606</td>\n",
       "      <td>3.308269</td>\n",
       "      <td>0.0</td>\n",
       "      <td>4.0</td>\n",
       "      <td>7.0</td>\n",
       "      <td>9.0</td>\n",
       "      <td>13.0</td>\n",
       "    </tr>\n",
       "  </tbody>\n",
       "</table>\n",
       "</div>"
      ],
      "text/plain": [
       "         count      mean       std  min  25%  50%  75%   max\n",
       "Sexo                                                        \n",
       "F     176786.0  6.545886  3.136405  0.0  4.0  7.0  9.0  12.0\n",
       "M     242230.0  6.331606  3.308269  0.0  4.0  7.0  9.0  13.0"
      ]
     },
     "execution_count": 16,
     "metadata": {},
     "output_type": "execute_result"
    }
   ],
   "source": [
    "consumidor.groupby('Sexo')[u'Tempo Resposta'].describe()"
   ]
  },
  {
   "cell_type": "markdown",
   "metadata": {},
   "source": [
    "A média de dias esperados pelo sexo feminino é levemente superior à média de dias esperados pelo sexo masculino."
   ]
  },
  {
   "cell_type": "markdown",
   "metadata": {},
   "source": [
    "## Há distinção de velocidade de atendimento entre as regiões?"
   ]
  },
  {
   "cell_type": "code",
   "execution_count": 17,
   "metadata": {},
   "outputs": [
    {
     "data": {
      "text/html": [
       "<div>\n",
       "<style scoped>\n",
       "    .dataframe tbody tr th:only-of-type {\n",
       "        vertical-align: middle;\n",
       "    }\n",
       "\n",
       "    .dataframe tbody tr th {\n",
       "        vertical-align: top;\n",
       "    }\n",
       "\n",
       "    .dataframe thead th {\n",
       "        text-align: right;\n",
       "    }\n",
       "</style>\n",
       "<table border=\"1\" class=\"dataframe\">\n",
       "  <thead>\n",
       "    <tr style=\"text-align: right;\">\n",
       "      <th></th>\n",
       "      <th>count</th>\n",
       "      <th>mean</th>\n",
       "      <th>std</th>\n",
       "      <th>min</th>\n",
       "      <th>25%</th>\n",
       "      <th>50%</th>\n",
       "      <th>75%</th>\n",
       "      <th>max</th>\n",
       "    </tr>\n",
       "    <tr>\n",
       "      <th>Região</th>\n",
       "      <th></th>\n",
       "      <th></th>\n",
       "      <th></th>\n",
       "      <th></th>\n",
       "      <th></th>\n",
       "      <th></th>\n",
       "      <th></th>\n",
       "      <th></th>\n",
       "    </tr>\n",
       "  </thead>\n",
       "  <tbody>\n",
       "    <tr>\n",
       "      <th>CO</th>\n",
       "      <td>46016.0</td>\n",
       "      <td>6.581167</td>\n",
       "      <td>3.188152</td>\n",
       "      <td>0.0</td>\n",
       "      <td>4.0</td>\n",
       "      <td>8.0</td>\n",
       "      <td>9.0</td>\n",
       "      <td>13.0</td>\n",
       "    </tr>\n",
       "    <tr>\n",
       "      <th>N</th>\n",
       "      <td>14766.0</td>\n",
       "      <td>6.158608</td>\n",
       "      <td>3.390476</td>\n",
       "      <td>0.0</td>\n",
       "      <td>3.0</td>\n",
       "      <td>7.0</td>\n",
       "      <td>9.0</td>\n",
       "      <td>13.0</td>\n",
       "    </tr>\n",
       "    <tr>\n",
       "      <th>NE</th>\n",
       "      <td>74629.0</td>\n",
       "      <td>6.409358</td>\n",
       "      <td>3.245189</td>\n",
       "      <td>0.0</td>\n",
       "      <td>4.0</td>\n",
       "      <td>7.0</td>\n",
       "      <td>9.0</td>\n",
       "      <td>12.0</td>\n",
       "    </tr>\n",
       "    <tr>\n",
       "      <th>S</th>\n",
       "      <td>88604.0</td>\n",
       "      <td>6.537188</td>\n",
       "      <td>3.088108</td>\n",
       "      <td>0.0</td>\n",
       "      <td>4.0</td>\n",
       "      <td>7.0</td>\n",
       "      <td>9.0</td>\n",
       "      <td>13.0</td>\n",
       "    </tr>\n",
       "    <tr>\n",
       "      <th>SE</th>\n",
       "      <td>195001.0</td>\n",
       "      <td>6.356911</td>\n",
       "      <td>3.299044</td>\n",
       "      <td>0.0</td>\n",
       "      <td>4.0</td>\n",
       "      <td>7.0</td>\n",
       "      <td>9.0</td>\n",
       "      <td>13.0</td>\n",
       "    </tr>\n",
       "  </tbody>\n",
       "</table>\n",
       "</div>"
      ],
      "text/plain": [
       "           count      mean       std  min  25%  50%  75%   max\n",
       "Região                                                        \n",
       "CO       46016.0  6.581167  3.188152  0.0  4.0  8.0  9.0  13.0\n",
       "N        14766.0  6.158608  3.390476  0.0  3.0  7.0  9.0  13.0\n",
       "NE       74629.0  6.409358  3.245189  0.0  4.0  7.0  9.0  12.0\n",
       "S        88604.0  6.537188  3.088108  0.0  4.0  7.0  9.0  13.0\n",
       "SE      195001.0  6.356911  3.299044  0.0  4.0  7.0  9.0  13.0"
      ]
     },
     "execution_count": 17,
     "metadata": {},
     "output_type": "execute_result"
    }
   ],
   "source": [
    "consumidor.groupby('Região')[u'Tempo Resposta'].describe()"
   ]
  },
  {
   "cell_type": "markdown",
   "metadata": {},
   "source": [
    "Percebe-se que não há uma distinção gritante."
   ]
  },
  {
   "cell_type": "markdown",
   "metadata": {},
   "source": [
    "## Qual empresa foi mais reclamada?"
   ]
  },
  {
   "cell_type": "code",
   "execution_count": 18,
   "metadata": {},
   "outputs": [
    {
     "data": {
      "image/png": "[encoded data removed]",
      "text/plain": [
       "<Figure size 432x288 with 1 Axes>"
      ]
     },
     "metadata": {
      "needs_background": "light"
     },
     "output_type": "display_data"
    }
   ],
   "source": [
    "fig, ax = plt.subplots()\n",
    "\n",
    "y_pos = np.arange(len(consumidor['Nome Fantasia'].value_counts()[:10]))\n",
    "values = consumidor['Nome Fantasia'].value_counts()[:10]\n",
    "segmentos = consumidor['Nome Fantasia'].unique()[:10]\n",
    "\n",
    "ax.barh(y_pos, values, align='center', color='black')\n",
    "ax.set_yticks(y_pos)\n",
    "ax.set_yticklabels(segmentos)\n",
    "ax.invert_yaxis()\n",
    "ax.set_xlabel('Reclamacoes')\n",
    "ax.set_title('Rank de Empresas')\n",
    "\n",
    "plt.show()"
   ]
  },
  {
   "cell_type": "markdown",
   "metadata": {},
   "source": [
    "## Qual segmento do mercado, área e grupo de reclamação são mais frequentes?"
   ]
  },
  {
   "cell_type": "code",
   "execution_count": 19,
   "metadata": {},
   "outputs": [
    {
     "data": {
      "text/plain": [
       "Operadoras de Telecomunicações (Telefonia, Internet, TV por assinatura)    146839\n",
       "Bancos, Financeiras e Administradoras de Cartão                            111728\n",
       "Comércio Eletrônico                                                         33066\n",
       "Bancos de Dados e Cadastros de Consumidores                                 27449\n",
       "Transporte Aéreo                                                            24315\n",
       "Empresas de Intermediação de Serviços / Negócios                            18298\n",
       "Empresas de Pagamento Eletrônico                                            10882\n",
       "Fabricantes - Eletroeletrônicos,  Produtos de Telefonia e Informática        8388\n",
       "Energia Elétrica                                                             6737\n",
       "Programas de Fidelidade                                                      5841\n",
       "Corretoras e Sociedades de Seguros, Capitalização e Previdência              4774\n",
       "Empresas de Recuperação de Crédito                                           3980\n",
       "Agências de Viagens                                                          3705\n",
       "Varejo                                                                       3450\n",
       "Operadoras de Planos de Saúde e Administradoras de Benefícios                2875\n",
       "Perfumaria, Cosméticos e Higiene Pessoal                                     2338\n",
       "Agua e Esgoto / Gás                                                          1796\n",
       "Fabricantes - Linha Branca                                                   1603\n",
       "Supermercados                                                                1324\n",
       "Fabricantes - Eletroportáteis e Artigos de Uso Doméstico e Pessoal            705\n",
       "Administradoras de Consórcios                                                 695\n",
       "Montadoras, Concessionárias e Prestadores de Serviços Automotivos             690\n",
       "Editoras                                                                      333\n",
       "Móveis e Artigos de Decoração                                                 323\n",
       "Farmácias                                                                     297\n",
       "Construtoras, Incorporadoras e Imobiliárias                                   278\n",
       "Artigos Esportivos                                                            183\n",
       "Distribuidoras de Combustíveis                                                134\n",
       "Provedores de Conteúdo e Outros Serviços na Internet                          126\n",
       "Cartões de Descontos                                                          121\n",
       "Entidades Sem Fins Lucrativos                                                  72\n",
       "Fabricantes - Produtos Químicos e Farmacêuticos                                13\n",
       "Material de Construção, Acabamento e Ferramentas                               12\n",
       "Transporte Terrestre                                                           10\n",
       "Vestuário, Calçados e Têxteis                                                   6\n",
       "Estabelecimentos de Ensino                                                      4\n",
       "Hospitais, Clínicas, Laboratórios e Outros Serviços de Saúde                    1\n",
       "Name: Segmento de Mercado, dtype: int64"
      ]
     },
     "execution_count": 19,
     "metadata": {},
     "output_type": "execute_result"
    }
   ],
   "source": [
    "# Descobrir o segmento de mercado mais frequente\n",
    "consumidor[u'Segmento de Mercado'].value_counts()\n"
   ]
  },
  {
   "cell_type": "code",
   "execution_count": 20,
   "metadata": {},
   "outputs": [
    {
     "data": {
      "text/plain": [
       "Serviços Financeiros                       161200\n",
       "Telecomunicações                           128408\n",
       "Produtos de Telefonia e Informática         34218\n",
       "Transportes                                 24014\n",
       "Demais Produtos                             23838\n",
       "Demais Serviços                             18634\n",
       "Produtos Eletrodomésticos e Eletrônicos     16760\n",
       "Água, Energia, Gás                           8533\n",
       "Saúde                                        3390\n",
       "Turismo/Viagens                              2537\n",
       "Alimentos                                    1453\n",
       "Habitação                                     248\n",
       "Educação                                      158\n",
       "Name: Área, dtype: int64"
      ]
     },
     "execution_count": 20,
     "metadata": {},
     "output_type": "execute_result"
    }
   ],
   "source": [
    "#Descobrir a área mais frequente\n",
    "consumidor[u'Área'].value_counts()"
   ]
  },
  {
   "cell_type": "code",
   "execution_count": 21,
   "metadata": {},
   "outputs": [
    {
     "data": {
      "image/png": "[encoded data removed]",
      "text/plain": [
       "<Figure size 432x288 with 1 Axes>"
      ]
     },
     "metadata": {
      "needs_background": "light"
     },
     "output_type": "display_data"
    }
   ],
   "source": [
    "consumidor[u'Área'].value_counts().plot(kind = 'barh');"
   ]
  },
  {
   "cell_type": "code",
   "execution_count": 22,
   "metadata": {},
   "outputs": [
    {
     "data": {
      "text/plain": [
       "Cobrança / Contestação    188636\n",
       "Contrato / Oferta          80506\n",
       "Vício de Qualidade         55901\n",
       "Atendimento / SAC          48619\n",
       "Informação                 31784\n",
       "Entrega do Produto         15877\n",
       "Saúde e Segurança           2068\n",
       "Name: Grupo Problema, dtype: int64"
      ]
     },
     "execution_count": 22,
     "metadata": {},
     "output_type": "execute_result"
    }
   ],
   "source": [
    "# Descobrir qual grupo de reclamação mais frequente\n",
    "consumidor[u'Grupo Problema'].value_counts()\n"
   ]
  },
  {
   "cell_type": "code",
   "execution_count": 23,
   "metadata": {},
   "outputs": [
    {
     "data": {
      "image/png": "[encoded data removed]",
      "text/plain": [
       "<Figure size 432x288 with 1 Axes>"
      ]
     },
     "metadata": {
      "needs_background": "light"
     },
     "output_type": "display_data"
    }
   ],
   "source": [
    "consumidor[u'Grupo Problema'].value_counts().plot(kind = 'bar');"
   ]
  },
  {
   "cell_type": "markdown",
   "metadata": {},
   "source": [
    "## Como contratam os serviços?"
   ]
  },
  {
   "cell_type": "code",
   "execution_count": 24,
   "metadata": {},
   "outputs": [
    {
     "data": {
      "text/plain": [
       "Internet                   156799\n",
       "Loja física                 89122\n",
       "Telefone                    84082\n",
       "Não comprei / contratei     75831\n",
       "Domicílio                   10072\n",
       "SMS / Mensagem de texto      2098\n",
       "Ganhei de presente           1949\n",
       "Stand, feiras e eventos      1723\n",
       "Catálogo                     1715\n",
       "Name: Como Comprou Contratou, dtype: int64"
      ]
     },
     "execution_count": 24,
     "metadata": {},
     "output_type": "execute_result"
    }
   ],
   "source": [
    "consumidor[u'Como Comprou Contratou'].value_counts()"
   ]
  },
  {
   "cell_type": "code",
   "execution_count": 25,
   "metadata": {},
   "outputs": [
    {
     "data": {
      "image/png": "[encoded data removed]",
      "text/plain": [
       "<Figure size 432x288 with 1 Axes>"
      ]
     },
     "metadata": {
      "needs_background": "light"
     },
     "output_type": "display_data"
    }
   ],
   "source": [
    "consumidor[u'Como Comprou Contratou'].value_counts().plot.bar();"
   ]
  },
  {
   "cell_type": "markdown",
   "metadata": {},
   "source": [
    "## Os consumidores procuram a empresa para resolver o problema?"
   ]
  },
  {
   "cell_type": "code",
   "execution_count": 26,
   "metadata": {},
   "outputs": [
    {
     "data": {
      "text/plain": [
       "S    321773\n",
       "N    101618\n",
       "Name: Procurou Empresa, dtype: int64"
      ]
     },
     "execution_count": 26,
     "metadata": {},
     "output_type": "execute_result"
    }
   ],
   "source": [
    "consumidor[u'Procurou Empresa'].value_counts()"
   ]
  },
  {
   "cell_type": "code",
   "execution_count": 27,
   "metadata": {},
   "outputs": [
    {
     "data": {
      "image/png": "[encoded data removed]",
      "text/plain": [
       "<Figure size 432x288 with 1 Axes>"
      ]
     },
     "metadata": {},
     "output_type": "display_data"
    }
   ],
   "source": [
    "consumidor[u'Procurou Empresa'].value_counts().plot(kind = 'pie', autopct='%1.1f%%' );"
   ]
  },
  {
   "cell_type": "markdown",
   "metadata": {},
   "source": [
    "## As empresas costumam deixar os consumidores no vácuo?"
   ]
  },
  {
   "cell_type": "code",
   "execution_count": 28,
   "metadata": {},
   "outputs": [
    {
     "data": {
      "text/plain": [
       "S    419016\n",
       "N      4375\n",
       "Name: Respondida, dtype: int64"
      ]
     },
     "execution_count": 28,
     "metadata": {},
     "output_type": "execute_result"
    }
   ],
   "source": [
    "consumidor[u'Respondida'].value_counts()"
   ]
  },
  {
   "cell_type": "markdown",
   "metadata": {},
   "source": [
    "É uma minoria que ficou sem resposta, mas ainda um número alto de pessoas sem resposta. "
   ]
  },
  {
   "cell_type": "code",
   "execution_count": 29,
   "metadata": {},
   "outputs": [],
   "source": [
    "nao_respondeu = consumidor[consumidor['Respondida'] == 'N']"
   ]
  },
  {
   "cell_type": "code",
   "execution_count": 30,
   "metadata": {},
   "outputs": [
    {
     "data": {
      "text/plain": [
       "Avianca - Oceanair (DESATIVADA)    970\n",
       "Banco Safra                        764\n",
       "Avianca - Voos internacionais      513\n",
       "Dotz                               155\n",
       "Aigle Azur                         136\n",
       "                                  ... \n",
       "Single Care                          1\n",
       "ImpressorAjato.com                   1\n",
       "Lojas Becker                         1\n",
       "Energisa Sergipe                     1\n",
       "AOC                                  1\n",
       "Name: Nome Fantasia, Length: 310, dtype: int64"
      ]
     },
     "execution_count": 30,
     "metadata": {},
     "output_type": "execute_result"
    }
   ],
   "source": [
    "#Achar as 5 empresas que menos respondem\n",
    "nao_respondeu[u'Nome Fantasia'].value_counts()\n"
   ]
  },
  {
   "cell_type": "code",
   "execution_count": 31,
   "metadata": {},
   "outputs": [
    {
     "data": {
      "image/png": "[encoded data removed]",
      "text/plain": [
       "<Figure size 432x288 with 1 Axes>"
      ]
     },
     "metadata": {
      "needs_background": "light"
     },
     "output_type": "display_data"
    }
   ],
   "source": [
    "fig, ax = plt.subplots()\n",
    "\n",
    "y_pos = np.arange(len(nao_respondeu['Nome Fantasia'].value_counts()[:15]))\n",
    "values = nao_respondeu['Nome Fantasia'].value_counts()[:15]\n",
    "segmentos = nao_respondeu['Nome Fantasia'].unique()[:15]\n",
    "\n",
    "ax.barh(y_pos, values, align='center', color='black')\n",
    "ax.set_yticks(y_pos)\n",
    "ax.set_yticklabels(segmentos)\n",
    "ax.invert_yaxis()\n",
    "ax.set_xlabel('Reclamacoes')\n",
    "ax.set_title('Rank de Empresas  que não respondem')\n",
    "\n",
    "plt.show()"
   ]
  },
  {
   "cell_type": "markdown",
   "metadata": {},
   "source": [
    "## Correlação entre variáveis"
   ]
  },
  {
   "cell_type": "code",
   "execution_count": 32,
   "metadata": {},
   "outputs": [
    {
     "data": {
      "image/png": "[encoded data removed]",
      "text/plain": [
       "<Figure size 432x288 with 2 Axes>"
      ]
     },
     "metadata": {
      "needs_background": "light"
     },
     "output_type": "display_data"
    }
   ],
   "source": [
    "#plotar o heatmap para visualizar as correlações entre variáveis\n",
    "\n",
    "sns.heatmap(consumidor.corr(), cmap='coolwarm', fmt='.2f', linewidths=0.1,\n",
    "            vmax=1.0, square=True, linecolor='black', annot=True);"
   ]
  },
  {
   "cell_type": "markdown",
   "metadata": {},
   "source": [
    "# 4. Preparação dos Dados"
   ]
  },
  {
   "cell_type": "markdown",
   "metadata": {},
   "source": [
    "## Selecionar as features"
   ]
  },
  {
   "cell_type": "code",
   "execution_count": 33,
   "metadata": {},
   "outputs": [],
   "source": [
    "#Eliminar as variáveis que não são tão importantes para a análise\n",
    "\n",
    "consumidor.drop(['Data Finalização', 'Problema', 'Situação', 'Total'], axis = 1, inplace = True)"
   ]
  },
  {
   "cell_type": "markdown",
   "metadata": {},
   "source": [
    "## Valores faltantes"
   ]
  },
  {
   "cell_type": "code",
   "execution_count": 34,
   "metadata": {},
   "outputs": [
    {
     "data": {
      "text/plain": [
       "Região                         0\n",
       "UF                             0\n",
       "Cidade                         0\n",
       "Sexo                           0\n",
       "Faixa Etária                   0\n",
       "Tempo Resposta              4375\n",
       "Nome Fantasia                  0\n",
       "Segmento de Mercado            0\n",
       "Área                           0\n",
       "Assunto                        0\n",
       "Grupo Problema                 0\n",
       "Como Comprou Contratou         0\n",
       "Procurou Empresa               0\n",
       "Respondida                     0\n",
       "Avaliação Reclamação           0\n",
       "Nota do Consumidor        190323\n",
       "dtype: int64"
      ]
     },
     "execution_count": 34,
     "metadata": {},
     "output_type": "execute_result"
    }
   ],
   "source": [
    "consumidor.isnull().sum()"
   ]
  },
  {
   "cell_type": "markdown",
   "metadata": {},
   "source": [
    "Nota do consumidor faltam muitos dados. Apagá-los irá alterar a análise. <br> Tempo de resposta também. <br> Logo, é melhor substituir os valores pela mediana e pela média."
   ]
  },
  {
   "cell_type": "code",
   "execution_count": 35,
   "metadata": {},
   "outputs": [],
   "source": [
    "#Preencher os espaços vazios do Tempo de Resposta com a mediana\n",
    "tempo_median = consumidor['Tempo Resposta'].median()\n",
    "consumidor['Tempo Resposta'].fillna(tempo_median, inplace = True)\n",
    "\n",
    "#Preencher os espaços vazios da Nota com a média\n",
    "nota_mean = consumidor['Nota do Consumidor'].mean()\n",
    "consumidor['Nota do Consumidor'].fillna(nota_mean, inplace = True)"
   ]
  }
 ],
 "metadata": {
  "kernelspec": {
   "display_name": "Python 3",
   "language": "python",
   "name": "python3"
  },
  "language_info": {
   "codemirror_mode": {
    "name": "ipython",
    "version": 3
   },
   "file_extension": ".py",
   "mimetype": "text/x-python",
   "name": "python",
   "nbconvert_exporter": "python",
   "pygments_lexer": "ipython3",
   "version": "3.7.6"
  }
 },
 "nbformat": 4,
 "nbformat_minor": 4
}
